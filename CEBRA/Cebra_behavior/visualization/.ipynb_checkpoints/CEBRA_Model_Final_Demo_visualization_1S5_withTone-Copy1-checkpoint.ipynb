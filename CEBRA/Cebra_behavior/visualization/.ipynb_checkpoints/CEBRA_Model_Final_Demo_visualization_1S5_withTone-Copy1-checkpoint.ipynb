{
 "cells": [
  {
   "cell_type": "markdown",
   "metadata": {
    "id": "-Kprkp_-slHX"
   },
   "source": [
    "# Packages"
   ]
  },
  {
   "cell_type": "code",
   "execution_count": null,
   "metadata": {
    "id": "Wp33LOMtsnhZ"
   },
   "outputs": [],
   "source": [
    "import sys\n",
    "import itertools\n",
    "import numpy as np\n",
    "import pandas as pd\n",
    "import matplotlib.pyplot as plt\n",
    "import seaborn as sns\n",
    "from sklearn.neighbors import KNeighborsRegressor, KNeighborsClassifier\n",
    "import sklearn.metrics\n",
    "from sklearn.model_selection import train_test_split\n",
    "import random\n",
    "import cebra\n",
    "from cebra import CEBRA\n",
    "import cebra.grid_search\n",
    "import time\n",
    "import joblib as jl\n",
    "from matplotlib.collections import LineCollection\n",
    "import cebra.integrations.plotly\n",
    "import os\n",
    "import torch\n",
    "%matplotlib inline"
   ]
  },
  {
   "cell_type": "code",
   "execution_count": null,
   "metadata": {},
   "outputs": [],
   "source": [
    "# conf_dir = \"/scratch/09117/xz6783/Xu/PL_miniscope/PL/Analysis/Cat_Odor_Conflict/Conflict/extracted_data/Calcium\"\n",
    "# source_dir = \"/scratch/09117/xz6783/Xu/CEBRA/Cebra_behavior/Cat_odor_conflict/training/data\"\n",
    "# output_dir = \"/scratch/09117/xz6783/Xu/CEBRA/Cebra_behavior/Cat_odor_conflict/training/output\"\n",
    "# model_dir = \"/scratch/09117/xz6783/Xu/CEBRA/Cebra_behavior/Cat_odor_conflict/visualization/models\"\n",
    "\n",
    "# source_dir = \"/scratch/09656/dhh3/cebra/cebra_behavior/Cat_odor_conflict/training/data\"\n",
    "# output_dir = \"/scratch/09656/dhh3/cebra/cebra_behavior/Cat_odor_conflict/training/output\"\n",
    "# model_dir = \"/scratch/09656/dhh3/cebra/cebra_behavior/Cat_odor_conflict/visualization2/models\"\n",
    "\n",
    "output_dir = \"/scratch/09117/xz6783/Xu/CEBRA/Cebra_behavior/Cat_odor_conflict/training/output\"\n",
    "model_dir = \"/scratch/09117/xz6783/Xu/CEBRA/Cebra_behavior/Cat_odor_conflict/visualization/models_with_tone\"\n",
    "source_dir = \"/scratch/09117/xz6783/Xu/CEBRA/Cebra_behavior/Cat_odor_conflict/training/data_with_tone\"\n",
    "output_dir_tone_only = \"/scratch/09117/xz6783/Xu/CEBRA/Cebra_behavior/Cat_odor_conflict/training/output_with_tone_active\"\n",
    "\n",
    "animal_id = '1S5'"
   ]
  },
  {
   "cell_type": "markdown",
   "metadata": {
    "id": "bACrjyA3syW4"
   },
   "source": [
    "# 1. Dataset"
   ]
  },
  {
   "cell_type": "code",
   "execution_count": null,
   "metadata": {
    "colab": {
     "base_uri": "https://localhost:8080/",
     "height": 424
    },
    "id": "6lTSarWvs2fQ",
    "outputId": "d329d743-9b21-4b92-cbff-115b4b85ce2b"
   },
   "outputs": [],
   "source": [
    "Dt = pd.read_csv(os.path.join(source_dir, f'{animal_id}.csv'), index_col= 0)\n",
    "# Split\n",
    "Y = Dt.iloc[:, 0:9]\n",
    "X = Dt.iloc[:, 9:]\n",
    "# View data\n",
    "Dt"
   ]
  },
  {
   "cell_type": "code",
   "execution_count": null,
   "metadata": {},
   "outputs": [],
   "source": [
    "X"
   ]
  },
  {
   "cell_type": "markdown",
   "metadata": {
    "id": "KmNiE7C0s-Yl"
   },
   "source": [
    "# 2. Model setup"
   ]
  },
  {
   "cell_type": "markdown",
   "metadata": {
    "id": "zKs1CBZjtBtF"
   },
   "source": [
    "## (1). Train test split"
   ]
  },
  {
   "cell_type": "code",
   "execution_count": null,
   "metadata": {
    "id": "0Go5SaOTtAnx"
   },
   "outputs": [],
   "source": [
    "# Train test split\n",
    "X_train, X_test, y_train, y_test = train_test_split(X, Y, test_size = 0.2, random_state = 2024)\n",
    "\n",
    "# Sort dataset by row index\n",
    "X_train = X_train.sort_index()\n",
    "X_test = X_test.sort_index()\n",
    "y_train = y_train.sort_index()\n",
    "y_test = y_test.sort_index()"
   ]
  },
  {
   "cell_type": "markdown",
   "metadata": {
    "id": "T8y5uW5ktHQs"
   },
   "source": [
    "## (2). Hyperparameter setup"
   ]
  },
  {
   "cell_type": "markdown",
   "metadata": {
    "id": "R32OJ8GxtH7l"
   },
   "source": [
    "distance = 'cosine'\n",
    "time_offsets = 10\n",
    "batch_size = None\n",
    "learning_rate = 0.001\n",
    "conditional = 'time_delta'\n",
    "output_dimension = 3\n",
    "num_hidden_units = 50\n",
    "max_iterations = 10000\n",
    "temperature = 1"
   ]
  },
  {
   "cell_type": "markdown",
   "metadata": {
    "id": "oQFNwafFtLe6"
   },
   "source": [
    "# 3. Model building"
   ]
  },
  {
   "cell_type": "markdown",
   "metadata": {
    "id": "EhCPOa27tNnn"
   },
   "source": [
    "## (1). [Freezing, In Hidden Area]"
   ]
  },
  {
   "cell_type": "markdown",
   "metadata": {},
   "source": [
    "## Best Model Hyperparameters"
   ]
  },
  {
   "cell_type": "code",
   "execution_count": null,
   "metadata": {},
   "outputs": [],
   "source": [
    "res0 = pd.read_csv(os.path.join(output_dir, f'CEBRA_Behavior Training Results 0 (Comb 1) {animal_id}.csv'), index_col=0)\n",
    "res1 = pd.read_csv(os.path.join(output_dir, f'CEBRA_Behavior Training Results 1 (Comb 1) {animal_id}.csv'), index_col=0)\n",
    "res2 = pd.read_csv(os.path.join(output_dir, f'CEBRA_Behavior Training Results 2 (Comb 1) {animal_id}.csv'), index_col=0)\n",
    "res3 = pd.read_csv(os.path.join(output_dir, f'CEBRA_Behavior Training Results 3 (Comb 1) {animal_id}.csv'), index_col=0)\n",
    "res4 = pd.read_csv(os.path.join(output_dir, f'CEBRA_Behavior Training Results 4 (Comb 1) {animal_id}.csv'), index_col=0)"
   ]
  },
  {
   "cell_type": "code",
   "execution_count": null,
   "metadata": {},
   "outputs": [],
   "source": [
    "# Training result\n",
    "modelPerformence = pd.concat([res0, res1, res2, res3, res4])\n",
    "\n",
    "# Extract min value of convergence\n",
    "Logic = modelPerformence.loc[:, 'Accuracy_Testing'] == min(modelPerformence[modelPerformence.loc[:, 'output_dimension']==3].loc[:, 'Accuracy_Testing'])\n",
    "# Logic = modelPerformence.loc[:, 'Accuracy_Testing'] == min(modelPerformence.loc[:, 'Accuracy_Testing'])\n",
    "bestModelPara = modelPerformence[Logic]\n",
    "bestModelPara"
   ]
  },
  {
   "cell_type": "code",
   "execution_count": null,
   "metadata": {},
   "outputs": [],
   "source": [
    "batch_size = bestModelPara.batch_size.values[0]\n",
    "learning_rate = bestModelPara.learning_rate.values[0]\n",
    "output_dimension = bestModelPara.output_dimension.values[0]\n",
    "max_iterations = 10000\n",
    "distance = bestModelPara.distance.values[0]\n",
    "conditional = bestModelPara.conditional.values[0]\n",
    "num_hidden_units = bestModelPara.num_hidden_units.values[0]\n",
    "time_offsets = bestModelPara.time_offsets.values[0]\n",
    "y_train_comb = y_train.iloc[:, [3, 5]].to_numpy()\n"
   ]
  },
  {
   "cell_type": "markdown",
   "metadata": {},
   "source": [
    "### These hyperparameters are used to build up models which only vary a parameter for temperature"
   ]
  },
  {
   "cell_type": "code",
   "execution_count": null,
   "metadata": {
    "scrolled": true
   },
   "outputs": [],
   "source": [
    "# Temperature = 1 (default) ##################################################################################\n",
    "cebra_behavior_model_comb1 = CEBRA(model_architecture='offset10-model',\n",
    "                                   learning_rate = learning_rate,\n",
    "                                   temperature = 1,\n",
    "                                   output_dimension = output_dimension,\n",
    "                                   max_iterations = max_iterations,\n",
    "                                   distance = distance,\n",
    "                                   conditional = conditional,\n",
    "                                   num_hidden_units = num_hidden_units,\n",
    "                                   device = 'cuda_if_available',\n",
    "                                   verbose = True,\n",
    "                                   time_offsets = time_offsets)\n",
    "\n",
    "# Model fitting\n",
    "cebra_behavior_model_comb1 .fit(X_train, y_train_comb)\n",
    "# Extract embedding vector\n",
    "embedding_comb1 = cebra_behavior_model_comb1.transform(X_train)\n",
    "\n",
    "# Temperature = 0.001 #########################################################################################\n",
    "cebra_behavior_model_00001_comb1 =CEBRA(model_architecture='offset10-model',\n",
    "                                   learning_rate = learning_rate,\n",
    "                                   temperature = 0.001,\n",
    "                                   output_dimension = output_dimension,\n",
    "                                   max_iterations = max_iterations,\n",
    "                                   distance = distance,\n",
    "                                   conditional = conditional,\n",
    "                                   num_hidden_units = num_hidden_units,\n",
    "                                   device = 'cuda_if_available',\n",
    "                                   verbose = True,\n",
    "                                   time_offsets = time_offsets)\n",
    "# Model fitting\n",
    "cebra_behavior_model_00001_comb1.fit(X_train, y_train_comb)\n",
    "# Extract embedding vector\n",
    "embedding_00001_comb1 = cebra_behavior_model_00001_comb1.transform(X_train)\n",
    "\n",
    "# Temperature = 0.1 #############################################################################################\n",
    "cebra_behavior_model_01_comb1 = CEBRA(model_architecture='offset10-model',\n",
    "                                   learning_rate = learning_rate,\n",
    "                                   temperature = 0.1,\n",
    "                                   output_dimension = output_dimension,\n",
    "                                   max_iterations = max_iterations,\n",
    "                                   distance = distance,\n",
    "                                   conditional = conditional,\n",
    "                                   num_hidden_units = num_hidden_units,\n",
    "                                   device = 'cuda_if_available',\n",
    "                                   verbose = True,\n",
    "                                   time_offsets = time_offsets)\n",
    "\n",
    "# Model fitting\n",
    "cebra_behavior_model_01_comb1.fit(X_train, y_train_comb)\n",
    "# Extract embedding vector\n",
    "embedding_01_comb1 = cebra_behavior_model_01_comb1.transform(X_train)\n",
    "\n",
    "# Temperature = 2 ################################################################################################\n",
    "cebra_behavior_model_2_comb1 = CEBRA(model_architecture='offset10-model',\n",
    "                                   learning_rate = learning_rate,\n",
    "                                   temperature = 2,\n",
    "                                   output_dimension = output_dimension,\n",
    "                                   max_iterations = max_iterations,\n",
    "                                   distance = distance,\n",
    "                                   conditional = conditional,\n",
    "                                   num_hidden_units = num_hidden_units,\n",
    "                                   device = 'cuda_if_available',\n",
    "                                   verbose = True,\n",
    "                                   time_offsets = time_offsets)\n",
    "\n",
    "# Model fitting\n",
    "cebra_behavior_model_2_comb1.fit(X_train, y_train_comb)\n",
    "# Extract embedding vector\n",
    "embedding_2_comb1 = cebra_behavior_model_2_comb1.transform(X_train)\n",
    "\n",
    "# Temperature = 3 ################################################################################################\n",
    "cebra_behavior_model_3_comb1 = CEBRA(model_architecture='offset10-model',\n",
    "                                   learning_rate = learning_rate,\n",
    "                                   temperature = 3,\n",
    "                                   output_dimension = output_dimension,\n",
    "                                   max_iterations = max_iterations,\n",
    "                                   distance = distance,\n",
    "                                   conditional = conditional,\n",
    "                                   num_hidden_units = num_hidden_units,\n",
    "                                   device = 'cuda_if_available',\n",
    "                                   verbose = True,\n",
    "                                   time_offsets = time_offsets)\n",
    "# Model fitting\n",
    "cebra_behavior_model_3_comb1.fit(X_train, y_train_comb)\n",
    "# Extract embedding vector\n",
    "embedding_3_comb1 = cebra_behavior_model_3_comb1.transform(X_train)\n",
    "\n",
    "# Temperature = 5 ################################################################################################\n",
    "cebra_behavior_model_5_comb1 = CEBRA(model_architecture='offset10-model',\n",
    "                                   learning_rate = learning_rate,\n",
    "                                   temperature = 5,\n",
    "                                   output_dimension = output_dimension,\n",
    "                                   max_iterations = max_iterations,\n",
    "                                   distance = distance,\n",
    "                                   conditional = conditional,\n",
    "                                   num_hidden_units = num_hidden_units,\n",
    "                                   device = 'cuda_if_available',\n",
    "                                   verbose = True,\n",
    "                                   time_offsets = time_offsets)\n",
    "\n",
    "# Model fitting\n",
    "cebra_behavior_model_5_comb1.fit(X_train, y_train_comb)\n",
    "# Extract embedding vector\n",
    "embedding_5_comb1 = cebra_behavior_model_5_comb1.transform(X_train)"
   ]
  },
  {
   "cell_type": "code",
   "execution_count": null,
   "metadata": {},
   "outputs": [],
   "source": [
    "fig = plt.figure(figsize = (10, 10))\n",
    "ax1 = plt.subplot(321, projection = '3d')\n",
    "\n",
    "# Visualized embedding\n",
    "ax1 = cebra.plot_embedding(ax=ax1, embedding=embedding_00001_comb1,\n",
    "                                                           embedding_labels = y_train.iloc[:, 3],\n",
    "                                                           title = \"Tempeature = 0.001\",\n",
    "                                                           cmap = \"crest\")\n",
    "ax2 = plt.subplot(322, projection = '3d')\n",
    "\n",
    "ax2 = cebra.plot_embedding(ax=ax2, embedding=embedding_01_comb1,\n",
    "                                                           embedding_labels = y_train.iloc[:, 3],\n",
    "                                                           title = \"Tempeature = 0.1\",\n",
    "                                                           cmap = \"crest\")\n",
    "\n",
    "ax3 = plt.subplot(323, projection = '3d')\n",
    "ax3 = cebra.plot_embedding(ax=ax3, embedding=embedding_comb1,\n",
    "                                                           embedding_labels = y_train.iloc[:, 3],\n",
    "                                                           title = \"Tempeature = 1\",\n",
    "                                                           cmap = \"crest\")\n",
    "ax4 = plt.subplot(324, projection = '3d')\n",
    "ax4 = cebra.plot_embedding(ax=ax4, embedding=embedding_2_comb1,\n",
    "                                                           embedding_labels = y_train.iloc[:, 3],\n",
    "                                                           title = \"Tempeature = 2\",\n",
    "                                                           cmap = \"crest\")\n",
    "ax5 = plt.subplot(325, projection = '3d')\n",
    "ax5 = cebra.plot_embedding(ax=ax5, embedding=embedding_3_comb1,\n",
    "                                                           embedding_labels = y_train.iloc[:, 3],\n",
    "                                                           title = \"Tempeature = 3\",\n",
    "                                                           cmap = \"crest\")\n",
    "ax6 = plt.subplot(326, projection = '3d')\n",
    "ax6 = cebra.plot_embedding(ax=ax6, embedding=embedding_5_comb1,\n",
    "                                                           embedding_labels = y_train.iloc[:, 3],\n",
    "                                                           title = \"Tempeature = 5\",\n",
    "                                                           cmap = \"crest\")\n",
    "\n",
    "fig.show()"
   ]
  },
  {
   "cell_type": "code",
   "execution_count": null,
   "metadata": {
    "colab": {
     "base_uri": "https://localhost:8080/"
    },
    "id": "tr5gGMLRtMKh",
    "outputId": "b30e8857-3338-4b26-cb63-944f5a30360b"
   },
   "outputs": [],
   "source": [
    "# Extract outcomes\n",
    "y_train_comb = y_train.iloc[:, [3, 5]].to_numpy()\n",
    "\n",
    "# Model\n",
    "cebra_behavior_model_comb1 = CEBRA(model_architecture='offset10-model',\n",
    "                                         learning_rate = learning_rate,\n",
    "                                   temperature = 1,\n",
    "                                   output_dimension = output_dimension,\n",
    "                                   max_iterations = max_iterations,\n",
    "                                   distance = distance,\n",
    "                                   conditional = conditional,\n",
    "                                   num_hidden_units = num_hidden_units,\n",
    "                                   device = 'cuda_if_available',\n",
    "                                   verbose = True,\n",
    "                                   time_offsets = time_offsets)\n",
    "\n",
    "# Fit and get embedding\n",
    "cebra_behavior_model_comb1.fit(X_train, y_train_comb)\n",
    "cebra_behavior_model_comb1_embedding = cebra_behavior_model_comb1.transform(X_train)\n",
    "\n",
    "# Obtain InfoNCE loss\n",
    "InfoNCELoss1 = cebra_behavior_model_comb1.state_dict_['loss']"
   ]
  },
  {
   "cell_type": "code",
   "execution_count": null,
   "metadata": {
    "colab": {
     "base_uri": "https://localhost:8080/",
     "height": 534
    },
    "id": "sqVjaos-tSi0",
    "outputId": "152bb5e5-5020-434a-e5c3-fc64caf080c5"
   },
   "outputs": [],
   "source": [
    "# Visualized embedding\n",
    "fig = cebra.integrations.plotly.plot_embedding_interactive(cebra_behavior_model_comb1_embedding,\n",
    "                                                           embedding_labels = y_train.iloc[:, 3],\n",
    "                                                           title = \"[Freezing, In Hidden Area]\",\n",
    "                                                           cmap = \"crest\")\n",
    "fig.show()"
   ]
  },
  {
   "cell_type": "code",
   "execution_count": null,
   "metadata": {},
   "outputs": [],
   "source": [
    "np.random.seed(999)\n",
    "# Extract outcomes\n",
    "y_train_comb = y_train.iloc[:, [3, 5]].to_numpy()\n",
    "\n",
    "# Model_shuffled\n",
    "cebra_behavior_model_comb1_shuffled = CEBRA(model_architecture='offset10-model',\n",
    "                                    learning_rate = learning_rate,\n",
    "                                   temperature = 1,\n",
    "                                   output_dimension = output_dimension,\n",
    "                                   max_iterations = max_iterations,\n",
    "                                   distance = distance,\n",
    "                                   conditional = conditional,\n",
    "                                   num_hidden_units = num_hidden_units,\n",
    "                                   device = 'cuda_if_available',\n",
    "                                   verbose = True,\n",
    "                                   time_offsets = time_offsets)\n",
    "\n",
    "# Fit and get embedding\n",
    "cebra_behavior_model_comb1_shuffled.fit(X_train, np.random.permutation(y_train_comb))\n",
    "cebra_behavior_model_comb1_embedding_shuffled = cebra_behavior_model_comb1_shuffled.transform(X_train)\n",
    "\n",
    "# Obtain InfoNCE loss\n",
    "InfoNCELoss1_shuffled = cebra_behavior_model_comb1_shuffled.state_dict_['loss']"
   ]
  },
  {
   "cell_type": "code",
   "execution_count": null,
   "metadata": {},
   "outputs": [],
   "source": [
    "# Visualized embedding\n",
    "fig = cebra.integrations.plotly.plot_embedding_interactive(cebra_behavior_model_comb1_embedding_shuffled,\n",
    "                                                           embedding_labels = y_train.iloc[:, 3],\n",
    "                                                           title = \"[Freezing, In Hidden Area] shuffled\",\n",
    "                                                           cmap = \"crest\")\n",
    "fig.show()"
   ]
  },
  {
   "cell_type": "code",
   "execution_count": null,
   "metadata": {},
   "outputs": [],
   "source": [
    "np.savetxt(os.path.join(model_dir,f\"cebra_behavior_model_comb1_embedding {animal_id}.csv\"), cebra_behavior_model_comb1_embedding, delimiter=\",\")\n",
    "np.savetxt(os.path.join(model_dir,f\"cebra_behavior_model_comb1_embedding_shuffled {animal_id}.csv\"), cebra_behavior_model_comb1_embedding_shuffled, delimiter=\",\")\n",
    "torch.save(InfoNCELoss1, os.path.join(model_dir,f\"InfoNCELoss1 {animal_id}.pt\"))\n",
    "torch.save(InfoNCELoss1_shuffled, os.path.join(model_dir,f\"InfoNCELoss1_shuffled {animal_id}.pt\"))\n",
    "cebra_behavior_model_comb1.save(os.path.join(model_dir,f\"cebra_behavior_model_comb1 {animal_id}.pt\"))\n",
    "cebra_behavior_model_comb1_shuffled.save(os.path.join(model_dir,f\"cebra_behavior_model_comb1_shuffled {animal_id}.pt\"))"
   ]
  },
  {
   "cell_type": "markdown",
   "metadata": {
    "id": "skjQ6XrttW5i"
   },
   "source": [
    "## (2). [In Food Area, Bar Press Active]"
   ]
  },
  {
   "cell_type": "markdown",
   "metadata": {},
   "source": [
    "## Best Model Hyperparameters"
   ]
  },
  {
   "cell_type": "code",
   "execution_count": null,
   "metadata": {},
   "outputs": [],
   "source": [
    "res0 = pd.read_csv(os.path.join(output_dir, f'CEBRA_Behavior Training Results 0 (Comb 2) {animal_id}.csv'), index_col=0)\n",
    "res1 = pd.read_csv(os.path.join(output_dir, f'CEBRA_Behavior Training Results 1 (Comb 2) {animal_id}.csv'), index_col=0)\n",
    "res2 = pd.read_csv(os.path.join(output_dir, f'CEBRA_Behavior Training Results 2 (Comb 2) {animal_id}.csv'), index_col=0)\n",
    "res3 = pd.read_csv(os.path.join(output_dir, f'CEBRA_Behavior Training Results 3 (Comb 2) {animal_id}.csv'), index_col=0)\n",
    "res4 = pd.read_csv(os.path.join(output_dir, f'CEBRA_Behavior Training Results 4 (Comb 2) {animal_id}.csv'), index_col=0)"
   ]
  },
  {
   "cell_type": "code",
   "execution_count": null,
   "metadata": {},
   "outputs": [],
   "source": [
    "# Training result\n",
    "modelPerformence = pd.concat([res0, res1, res2, res3, res4])\n",
    "\n",
    "# Extract min value of convergence\n",
    "# Logic = modelPerformence.loc[:, 'Accuracy_Testing'] == min(modelPerformence.loc[:, 'Accuracy_Testing'])\n",
    "Logic = modelPerformence.loc[:, 'Accuracy_Testing'] == min(modelPerformence[modelPerformence.loc[:, 'output_dimension']==3].loc[:, 'Accuracy_Testing'])\n",
    "bestModelPara = modelPerformence[Logic]\n",
    "bestModelPara"
   ]
  },
  {
   "cell_type": "code",
   "execution_count": null,
   "metadata": {},
   "outputs": [],
   "source": [
    "batch_size = bestModelPara.batch_size.values[0]\n",
    "learning_rate = bestModelPara.learning_rate.values[0]\n",
    "output_dimension = bestModelPara.output_dimension.values[0]\n",
    "max_iterations = 10000\n",
    "distance = bestModelPara.distance.values[0]\n",
    "conditional = bestModelPara.conditional.values[0]\n",
    "num_hidden_units = bestModelPara.num_hidden_units.values[0]\n",
    "time_offsets = bestModelPara.time_offsets.values[0]\n",
    "temperature = 1"
   ]
  },
  {
   "cell_type": "code",
   "execution_count": null,
   "metadata": {},
   "outputs": [],
   "source": [
    "y_train_comb = y_train.iloc[:, [4, 6]].to_numpy()"
   ]
  },
  {
   "cell_type": "code",
   "execution_count": null,
   "metadata": {
    "scrolled": true
   },
   "outputs": [],
   "source": [
    "# Temperature = 1 (default) ##################################################################################\n",
    "cebra_behavior_model_comb2 = CEBRA(model_architecture='offset10-model',\n",
    "                                   learning_rate = learning_rate,\n",
    "                                   temperature = 1,\n",
    "                                   output_dimension = output_dimension,\n",
    "                                   max_iterations = max_iterations,\n",
    "                                   distance = distance,\n",
    "                                   conditional = conditional,\n",
    "                                   num_hidden_units = num_hidden_units,\n",
    "                                   device = 'cuda_if_available',\n",
    "                                   verbose = True,\n",
    "                                   time_offsets = time_offsets)\n",
    "\n",
    "# Model fitting\n",
    "cebra_behavior_model_comb2 .fit(X_train, y_train_comb)\n",
    "# Extract embedding vector\n",
    "embedding_comb2 = cebra_behavior_model_comb2.transform(X_train)\n",
    "\n",
    "# Temperature = 0.001 #########################################################################################\n",
    "cebra_behavior_model_00001_comb2 =CEBRA(model_architecture='offset10-model',\n",
    "                                   learning_rate = learning_rate,\n",
    "                                   temperature = 0.001,\n",
    "                                   output_dimension = output_dimension,\n",
    "                                   max_iterations = max_iterations,\n",
    "                                   distance = distance,\n",
    "                                   conditional = conditional,\n",
    "                                   num_hidden_units = num_hidden_units,\n",
    "                                   device = 'cuda_if_available',\n",
    "                                   verbose = True,\n",
    "                                   time_offsets = time_offsets)\n",
    "# Model fitting\n",
    "cebra_behavior_model_00001_comb2.fit(X_train, y_train_comb)\n",
    "# Extract embedding vector\n",
    "embedding_00001_comb2 = cebra_behavior_model_00001_comb2.transform(X_train)\n",
    "\n",
    "# Temperature = 0.1 #############################################################################################\n",
    "cebra_behavior_model_01_comb2 = CEBRA(model_architecture='offset10-model',\n",
    "                                   learning_rate = learning_rate,\n",
    "                                   temperature = 0.1,\n",
    "                                   output_dimension = output_dimension,\n",
    "                                   max_iterations = max_iterations,\n",
    "                                   distance = distance,\n",
    "                                   conditional = conditional,\n",
    "                                   num_hidden_units = num_hidden_units,\n",
    "                                   device = 'cuda_if_available',\n",
    "                                   verbose = True,\n",
    "                                   time_offsets = time_offsets)\n",
    "\n",
    "# Model fitting\n",
    "cebra_behavior_model_01_comb2.fit(X_train, y_train_comb)\n",
    "# Extract embedding vector\n",
    "embedding_01_comb2 = cebra_behavior_model_01_comb2.transform(X_train)\n",
    "\n",
    "# Temperature = 2 ################################################################################################\n",
    "cebra_behavior_model_2_comb2 = CEBRA(model_architecture='offset10-model',\n",
    "                                   learning_rate = learning_rate,\n",
    "                                   temperature = 2,\n",
    "                                   output_dimension = output_dimension,\n",
    "                                   max_iterations = max_iterations,\n",
    "                                   distance = distance,\n",
    "                                   conditional = conditional,\n",
    "                                   num_hidden_units = num_hidden_units,\n",
    "                                   device = 'cuda_if_available',\n",
    "                                   verbose = True,\n",
    "                                   time_offsets = time_offsets)\n",
    "\n",
    "# Model fitting\n",
    "cebra_behavior_model_2_comb2.fit(X_train, y_train_comb)\n",
    "# Extract embedding vector\n",
    "embedding_2_comb2 = cebra_behavior_model_2_comb2.transform(X_train)\n",
    "\n",
    "# Temperature = 3 ################################################################################################\n",
    "cebra_behavior_model_3_comb2 = CEBRA(model_architecture='offset10-model',\n",
    "                                   learning_rate = learning_rate,\n",
    "                                   temperature = 3,\n",
    "                                   output_dimension = output_dimension,\n",
    "                                   max_iterations = max_iterations,\n",
    "                                   distance = distance,\n",
    "                                   conditional = conditional,\n",
    "                                   num_hidden_units = num_hidden_units,\n",
    "                                   device = 'cuda_if_available',\n",
    "                                   verbose = True,\n",
    "                                   time_offsets = time_offsets)\n",
    "# Model fitting\n",
    "cebra_behavior_model_3_comb2.fit(X_train, y_train_comb)\n",
    "# Extract embedding vector\n",
    "embedding_3_comb2 = cebra_behavior_model_3_comb2.transform(X_train)\n",
    "\n",
    "# Temperature = 5 ################################################################################################\n",
    "cebra_behavior_model_5_comb2 = CEBRA(model_architecture='offset10-model',\n",
    "                                   learning_rate = learning_rate,\n",
    "                                   temperature = 5,\n",
    "                                   output_dimension = output_dimension,\n",
    "                                   max_iterations = max_iterations,\n",
    "                                   distance = distance,\n",
    "                                   conditional = conditional,\n",
    "                                   num_hidden_units = num_hidden_units,\n",
    "                                   device = 'cuda_if_available',\n",
    "                                   verbose = True,\n",
    "                                   time_offsets = time_offsets)\n",
    "\n",
    "# Model fitting\n",
    "cebra_behavior_model_5_comb2.fit(X_train, y_train_comb)\n",
    "# Extract embedding vector\n",
    "embedding_5_comb2 = cebra_behavior_model_5_comb2.transform(X_train)"
   ]
  },
  {
   "cell_type": "code",
   "execution_count": null,
   "metadata": {},
   "outputs": [],
   "source": [
    "fig = plt.figure(figsize = (10, 10))\n",
    "ax1 = plt.subplot(321, projection = '3d')\n",
    "\n",
    "# Visualized embedding\n",
    "ax1 = cebra.plot_embedding(ax=ax1, embedding=embedding_00001_comb2,\n",
    "                                                           embedding_labels = y_train.iloc[:, 4],\n",
    "                                                           title = \"Tempeature = 0.001\",\n",
    "                                                           cmap = \"flare\")\n",
    "ax2 = plt.subplot(322, projection = '3d')\n",
    "\n",
    "ax2 = cebra.plot_embedding(ax=ax2, embedding=embedding_01_comb2,\n",
    "                                                           embedding_labels = y_train.iloc[:, 4],\n",
    "                                                           title = \"Tempeature = 0.1\",\n",
    "                                                           cmap = \"flare\")\n",
    "\n",
    "ax3 = plt.subplot(323, projection = '3d')\n",
    "ax3 = cebra.plot_embedding(ax=ax3, embedding=embedding_comb2,\n",
    "                                                           embedding_labels = y_train.iloc[:, 4],\n",
    "                                                           title = \"Tempeature = 1\",\n",
    "                                                           cmap = \"flare\")\n",
    "ax4 = plt.subplot(324, projection = '3d')\n",
    "ax4 = cebra.plot_embedding(ax=ax4, embedding=embedding_2_comb2,\n",
    "                                                           embedding_labels = y_train.iloc[:, 4],\n",
    "                                                           title = \"Tempeature = 2\",\n",
    "                                                           cmap = \"flare\")\n",
    "ax5 = plt.subplot(325, projection = '3d')\n",
    "ax5 = cebra.plot_embedding(ax=ax5, embedding=embedding_3_comb2,\n",
    "                                                           embedding_labels = y_train.iloc[:, 4],\n",
    "                                                           title = \"Tempeature = 3\",\n",
    "                                                           cmap = \"flare\")\n",
    "ax6 = plt.subplot(326, projection = '3d')\n",
    "ax6 = cebra.plot_embedding(ax=ax6, embedding=embedding_5_comb2,\n",
    "                                                           embedding_labels = y_train.iloc[:, 4],\n",
    "                                                           title = \"Tempeature = 5\",\n",
    "                                                           cmap = \"flare\")\n",
    "\n",
    "fig.show()"
   ]
  },
  {
   "cell_type": "code",
   "execution_count": null,
   "metadata": {
    "colab": {
     "base_uri": "https://localhost:8080/"
    },
    "id": "tr5gGMLRtMKh",
    "outputId": "b30e8857-3338-4b26-cb63-944f5a30360b"
   },
   "outputs": [],
   "source": [
    "# Extract outcomes\n",
    "y_train_comb = y_train.iloc[:, [4, 6]].to_numpy()\n",
    "\n",
    "# Model\n",
    "cebra_behavior_model_comb2 = CEBRA(model_architecture='offset10-model',\n",
    "                                   learning_rate = learning_rate,\n",
    "                                   temperature = 1,\n",
    "                                   output_dimension = output_dimension,\n",
    "                                   max_iterations = max_iterations,\n",
    "                                   distance = distance,\n",
    "                                   conditional = conditional,\n",
    "                                   num_hidden_units = num_hidden_units,\n",
    "                                   device = 'cuda_if_available',\n",
    "                                   verbose = True,\n",
    "                                   time_offsets = time_offsets)\n",
    "\n",
    "# Fit and get embedding\n",
    "cebra_behavior_model_comb2.fit(X_train, y_train_comb)\n",
    "cebra_behavior_model_comb2_embedding = cebra_behavior_model_comb2.transform(X_train)\n",
    "\n",
    "# Obtain InfoNCE loss\n",
    "InfoNCELoss2 = cebra_behavior_model_comb2.state_dict_['loss']"
   ]
  },
  {
   "cell_type": "code",
   "execution_count": null,
   "metadata": {
    "colab": {
     "base_uri": "https://localhost:8080/",
     "height": 534
    },
    "id": "sqVjaos-tSi0",
    "outputId": "152bb5e5-5020-434a-e5c3-fc64caf080c5"
   },
   "outputs": [],
   "source": [
    "# Visualized embedding\n",
    "fig = cebra.integrations.plotly.plot_embedding_interactive(cebra_behavior_model_comb2_embedding,\n",
    "                                                           embedding_labels = y_train.iloc[:, 4],\n",
    "                                                           title = \"[In Food Area, Bar Press Active]\",\n",
    "                                                           cmap = \"flare\")\n",
    "fig.show()"
   ]
  },
  {
   "cell_type": "code",
   "execution_count": null,
   "metadata": {},
   "outputs": [],
   "source": [
    "np.random.seed(999)\n",
    "# Extract outcomes\n",
    "\n",
    "# Model_shuffled\n",
    "cebra_behavior_model_comb2_shuffled = CEBRA(model_architecture='offset10-model',\n",
    "                                    learning_rate = learning_rate,\n",
    "                                   temperature = 1,\n",
    "                                   output_dimension = output_dimension,\n",
    "                                   max_iterations = max_iterations,\n",
    "                                   distance = distance,\n",
    "                                   conditional = conditional,\n",
    "                                   num_hidden_units = num_hidden_units,\n",
    "                                   device = 'cuda_if_available',\n",
    "                                   verbose = True,\n",
    "                                   time_offsets = time_offsets)\n",
    "\n",
    "# Fit and get embedding\n",
    "cebra_behavior_model_comb2_shuffled.fit(X_train, np.random.permutation(y_train_comb))\n",
    "cebra_behavior_model_comb2_embedding_shuffled = cebra_behavior_model_comb2_shuffled.transform(X_train)\n",
    "\n",
    "# Obtain InfoNCE loss\n",
    "InfoNCELoss2_shuffled = cebra_behavior_model_comb2_shuffled.state_dict_['loss']"
   ]
  },
  {
   "cell_type": "code",
   "execution_count": null,
   "metadata": {
    "scrolled": false
   },
   "outputs": [],
   "source": [
    "# Visualized embedding\n",
    "fig = cebra.integrations.plotly.plot_embedding_interactive(cebra_behavior_model_comb2_embedding_shuffled,\n",
    "                                                           embedding_labels = y_train.iloc[:, 4],\n",
    "                                                           title = \"[In Food Area, Bar Press Active] shuffled\",\n",
    "                                                           cmap = \"flare\")\n",
    "fig.show()"
   ]
  },
  {
   "cell_type": "code",
   "execution_count": null,
   "metadata": {},
   "outputs": [],
   "source": [
    "np.savetxt(os.path.join(model_dir,f\"cebra_behavior_model_comb2_embedding {animal_id}.csv\"), cebra_behavior_model_comb2_embedding, delimiter=\",\")\n",
    "np.savetxt(os.path.join(model_dir,f\"cebra_behavior_model_comb2_embedding_shuffled {animal_id}.csv\"), cebra_behavior_model_comb2_embedding_shuffled, delimiter=\",\")\n",
    "torch.save(InfoNCELoss2, os.path.join(model_dir,f\"InfoNCELoss2 {animal_id}.pt\"))\n",
    "torch.save(InfoNCELoss2_shuffled, os.path.join(model_dir,f\"InfoNCELoss2_shuffled {animal_id}.pt\"))\n",
    "cebra_behavior_model_comb2.save(os.path.join(model_dir,f\"cebra_behavior_model_comb2 {animal_id}.pt\"))\n",
    "cebra_behavior_model_comb2_shuffled.save(os.path.join(model_dir,f\"cebra_behavior_model_comb2_shuffled {animal_id}.pt\"))"
   ]
  },
  {
   "cell_type": "markdown",
   "metadata": {
    "id": "jDVcVUA7tgEl"
   },
   "source": [
    "## (3). [Tone Active]"
   ]
  },
  {
   "cell_type": "code",
   "execution_count": null,
   "metadata": {},
   "outputs": [],
   "source": [
    "# source_dir_tone_only = \"/scratch/09656/dhh3/cebra/cebra_behavior/Cat_odor_conflict/training/data2\"\n",
    "# output_dir_tone_only = \"/scratch/09656/dhh3/cebra/cebra_behavior/Cat_odor_conflict/training/output2\"\n",
    "# model_dir_tone_only = \"/scratch/09656/dhh3/cebra/cebra_behavior/Cat_odor_conflict/visualization2/models\"\n",
    "\n",
    "# Dt_tone_only = pd.read_csv(os.path.join(source_dir_tone_only, f'{animal_id}.csv'), index_col= 0)\n",
    "# # Split\n",
    "# Y_tone_only = Dt_tone_only.iloc[:, 0:9]\n",
    "# X_tone_only = Dt_tone_only.iloc[:, 9:]\n",
    "\n",
    "# # Train test split\n",
    "# X_train_tone_only, X_test_tone_only, y_train_tone_only, y_test_tone_only = train_test_split(X_tone_only, Y_tone_only, test_size = 0.2, random_state = 2024)\n",
    "\n",
    "# # Sort dataset by row index\n",
    "# X_train_tone_only = X_train_tone_only.sort_index()\n",
    "# X_test_tone_only = X_test_tone_only.sort_index()\n",
    "# y_train_tone_only = y_train_tone_only.sort_index()\n",
    "# y_test_tone_only = y_test_tone_only.sort_index()"
   ]
  },
  {
   "cell_type": "markdown",
   "metadata": {},
   "source": [
    "## Best Model Hyperparameters"
   ]
  },
  {
   "cell_type": "code",
   "execution_count": null,
   "metadata": {},
   "outputs": [],
   "source": [
    "# res0 = pd.read_csv(os.path.join(output_dir, f'CEBRA_Behavior Training Results 0 (Comb 3) {animal_id}.csv'), index_col=0)\n",
    "# res1 = pd.read_csv(os.path.join(output_dir, f'CEBRA_Behavior Training Results 1 (Comb 3) {animal_id}.csv'), index_col=0)\n",
    "# res2 = pd.read_csv(os.path.join(output_dir, f'CEBRA_Behavior Training Results 2 (Comb 3) {animal_id}.csv'), index_col=0)\n",
    "# res3 = pd.read_csv(os.path.join(output_dir, f'CEBRA_Behavior Training Results 3 (Comb 3) {animal_id}.csv'), index_col=0)\n",
    "# res4 = pd.read_csv(os.path.join(output_dir, f'CEBRA_Behavior Training Results 4 (Comb 3) {animal_id}.csv'), index_col=0)\n",
    "\n",
    "res0 = pd.read_csv(os.path.join(output_dir_tone_only, f'CEBRA_Behavior Training Results 0 (1) {animal_id}.csv'), index_col=0)\n",
    "res1 = pd.read_csv(os.path.join(output_dir_tone_only, f'CEBRA_Behavior Training Results 1 (1) {animal_id}.csv'), index_col=0)\n",
    "res2 = pd.read_csv(os.path.join(output_dir_tone_only, f'CEBRA_Behavior Training Results 2 (1) {animal_id}.csv'), index_col=0)\n",
    "res3 = pd.read_csv(os.path.join(output_dir_tone_only, f'CEBRA_Behavior Training Results 3 (1) {animal_id}.csv'), index_col=0)\n",
    "res4 = pd.read_csv(os.path.join(output_dir_tone_only, f'CEBRA_Behavior Training Results 4 (1) {animal_id}.csv'), index_col=0)\n",
    "res5 = pd.read_csv(os.path.join(output_dir_tone_only, f'CEBRA_Behavior Training Results 5 (1) {animal_id}.csv'), index_col=0)\n",
    "res6 = pd.read_csv(os.path.join(output_dir_tone_only, f'CEBRA_Behavior Training Results 6 (1) {animal_id}.csv'), index_col=0)\n",
    "res7 = pd.read_csv(os.path.join(output_dir_tone_only, f'CEBRA_Behavior Training Results 7 (1) {animal_id}.csv'), index_col=0)\n",
    "res8 = pd.read_csv(os.path.join(output_dir_tone_only, f'CEBRA_Behavior Training Results 8 (1) {animal_id}.csv'), index_col=0)\n",
    "res9 = pd.read_csv(os.path.join(output_dir_tone_only, f'CEBRA_Behavior Training Results 9 (1) {animal_id}.csv'), index_col=0)"
   ]
  },
  {
   "cell_type": "code",
   "execution_count": null,
   "metadata": {},
   "outputs": [],
   "source": [
    "# Training result\n",
    "modelPerformence = pd.concat([res0, res1, res2, res3, res4, res5, res6, res7, res8, res9])\n",
    "\n",
    "# Extract min value of convergence\n",
    "Logic = modelPerformence.loc[:, 'Accuracy_Testing'] == min(modelPerformence[modelPerformence.loc[:, 'output_dimension']==3].loc[:, 'Accuracy_Testing'])\n",
    "\n",
    "# Logic = modelPerformence.loc[:, 'Accuracy_Testing'] == min(modelPerformence.loc[:, 'Accuracy_Testing'])\n",
    "bestModelPara = modelPerformence[Logic]\n",
    "bestModelPara"
   ]
  },
  {
   "cell_type": "code",
   "execution_count": null,
   "metadata": {},
   "outputs": [],
   "source": [
    "batch_size = bestModelPara.batch_size.values[0]\n",
    "learning_rate = bestModelPara.learning_rate.values[0]\n",
    "output_dimension = bestModelPara.output_dimension.values[0]\n",
    "max_iterations = 10000\n",
    "distance = bestModelPara.distance.values[0]\n",
    "conditional = bestModelPara.conditional.values[0]\n",
    "num_hidden_units = bestModelPara.num_hidden_units.values[0]\n",
    "time_offsets = bestModelPara.time_offsets.values[0]\n",
    "temperature = 1"
   ]
  },
  {
   "cell_type": "code",
   "execution_count": null,
   "metadata": {},
   "outputs": [],
   "source": [
    "y_train_comb = y_train.iloc[:, [8]].to_numpy()"
   ]
  },
  {
   "cell_type": "code",
   "execution_count": null,
   "metadata": {
    "scrolled": true
   },
   "outputs": [],
   "source": [
    "# Temperature = 1 (default) ##################################################################################\n",
    "cebra_behavior_model_comb3 = CEBRA(model_architecture='offset10-model',\n",
    "                                   learning_rate = learning_rate,\n",
    "                                   temperature = 1,\n",
    "                                   output_dimension = output_dimension,\n",
    "                                   max_iterations = max_iterations,\n",
    "                                   distance = distance,\n",
    "                                   conditional = conditional,\n",
    "                                   num_hidden_units = num_hidden_units,\n",
    "                                   device = 'cuda_if_available',\n",
    "                                   verbose = True,\n",
    "                                   time_offsets = time_offsets)\n",
    "\n",
    "# Model fitting\n",
    "cebra_behavior_model_comb3 .fit(X_train, y_train_comb)\n",
    "# Extract embedding vector\n",
    "embedding_comb3 = cebra_behavior_model_comb3.transform(X_train)\n",
    "\n",
    "# Temperature = 0.001 #########################################################################################\n",
    "cebra_behavior_model_00001_comb3 =CEBRA(model_architecture='offset10-model',\n",
    "                                   learning_rate = learning_rate,\n",
    "                                   temperature = 0.001,\n",
    "                                   output_dimension = output_dimension,\n",
    "                                   max_iterations = max_iterations,\n",
    "                                   distance = distance,\n",
    "                                   conditional = conditional,\n",
    "                                   num_hidden_units = num_hidden_units,\n",
    "                                   device = 'cuda_if_available',\n",
    "                                   verbose = True,\n",
    "                                   time_offsets = time_offsets)\n",
    "# Model fitting\n",
    "cebra_behavior_model_00001_comb3.fit(X_train, y_train_comb)\n",
    "# Extract embedding vector\n",
    "embedding_00001_comb3 = cebra_behavior_model_00001_comb3.transform(X_train)\n",
    "\n",
    "# Temperature = 0.1 #############################################################################################\n",
    "cebra_behavior_model_01_comb3 = CEBRA(model_architecture='offset10-model',\n",
    "                                   learning_rate = learning_rate,\n",
    "                                   temperature = 0.1,\n",
    "                                   output_dimension = output_dimension,\n",
    "                                   max_iterations = max_iterations,\n",
    "                                   distance = distance,\n",
    "                                   conditional = conditional,\n",
    "                                   num_hidden_units = num_hidden_units,\n",
    "                                   device = 'cuda_if_available',\n",
    "                                   verbose = True,\n",
    "                                   time_offsets = time_offsets)\n",
    "\n",
    "# Model fitting\n",
    "cebra_behavior_model_01_comb3.fit(X_train, y_train_comb)\n",
    "# Extract embedding vector\n",
    "embedding_01_comb3 = cebra_behavior_model_01_comb3.transform(X_train)\n",
    "\n",
    "# Temperature = 2 ################################################################################################\n",
    "cebra_behavior_model_2_comb3 = CEBRA(model_architecture='offset10-model',\n",
    "                                   learning_rate = learning_rate,\n",
    "                                   temperature = 2,\n",
    "                                   output_dimension = output_dimension,\n",
    "                                   max_iterations = max_iterations,\n",
    "                                   distance = distance,\n",
    "                                   conditional = conditional,\n",
    "                                   num_hidden_units = num_hidden_units,\n",
    "                                   device = 'cuda_if_available',\n",
    "                                   verbose = True,\n",
    "                                   time_offsets = time_offsets)\n",
    "\n",
    "# Model fitting\n",
    "cebra_behavior_model_2_comb3.fit(X_train, y_train_comb)\n",
    "# Extract embedding vector\n",
    "embedding_2_comb3 = cebra_behavior_model_2_comb3.transform(X_train)\n",
    "\n",
    "# Temperature = 3 ################################################################################################\n",
    "cebra_behavior_model_3_comb3 = CEBRA(model_architecture='offset10-model',\n",
    "                                   learning_rate = learning_rate,\n",
    "                                   temperature = 3,\n",
    "                                   output_dimension = output_dimension,\n",
    "                                   max_iterations = max_iterations,\n",
    "                                   distance = distance,\n",
    "                                   conditional = conditional,\n",
    "                                   num_hidden_units = num_hidden_units,\n",
    "                                   device = 'cuda_if_available',\n",
    "                                   verbose = True,\n",
    "                                   time_offsets = time_offsets)\n",
    "# Model fitting\n",
    "cebra_behavior_model_3_comb3.fit(X_train, y_train_comb)\n",
    "# Extract embedding vector\n",
    "embedding_3_comb3 = cebra_behavior_model_3_comb3.transform(X_train)\n",
    "\n",
    "# Temperature = 5 ################################################################################################\n",
    "cebra_behavior_model_5_comb3 = CEBRA(model_architecture='offset10-model',\n",
    "                                   learning_rate = learning_rate,\n",
    "                                   temperature = 5,\n",
    "                                   output_dimension = output_dimension,\n",
    "                                   max_iterations = max_iterations,\n",
    "                                   distance = distance,\n",
    "                                   conditional = conditional,\n",
    "                                   num_hidden_units = num_hidden_units,\n",
    "                                   device = 'cuda_if_available',\n",
    "                                   verbose = True,\n",
    "                                   time_offsets = time_offsets)\n",
    "\n",
    "# Model fitting\n",
    "cebra_behavior_model_5_comb3.fit(X_train, y_train_comb)\n",
    "# Extract embedding vector\n",
    "embedding_5_comb3 = cebra_behavior_model_5_comb3.transform(X_train)"
   ]
  },
  {
   "cell_type": "code",
   "execution_count": null,
   "metadata": {},
   "outputs": [],
   "source": [
    "fig = plt.figure(figsize = (10, 10))\n",
    "ax1 = plt.subplot(321, projection = '3d')\n",
    "\n",
    "# Visualized embedding\n",
    "ax1 = cebra.plot_embedding(ax=ax1, embedding=embedding_00001_comb3,\n",
    "                                                           embedding_labels = y_train.iloc[:, 8],\n",
    "                                                           title = \"Tempeature = 0.001\",\n",
    "                                                           cmap = \"coolwarm\")\n",
    "ax2 = plt.subplot(322, projection = '3d')\n",
    "\n",
    "ax2 = cebra.plot_embedding(ax=ax2, embedding=embedding_01_comb3,\n",
    "                                                           embedding_labels = y_train.iloc[:, 8],\n",
    "                                                           title = \"Tempeature = 0.1\",\n",
    "                                                           cmap = \"coolwarm\")\n",
    "\n",
    "ax3 = plt.subplot(323, projection = '3d')\n",
    "ax3 = cebra.plot_embedding(ax=ax3, embedding=embedding_comb3,\n",
    "                                                           embedding_labels = y_train.iloc[:, 8],\n",
    "                                                           title = \"Tempeature = 1\",\n",
    "                                                           cmap = \"coolwarm\")\n",
    "ax4 = plt.subplot(324, projection = '3d')\n",
    "ax4 = cebra.plot_embedding(ax=ax4, embedding=embedding_2_comb3,\n",
    "                                                           embedding_labels = y_train.iloc[:, 8],\n",
    "                                                           title = \"Tempeature = 2\",\n",
    "                                                           cmap = \"coolwarm\")\n",
    "ax5 = plt.subplot(325, projection = '3d')\n",
    "ax5 = cebra.plot_embedding(ax=ax5, embedding=embedding_3_comb3,\n",
    "                                                           embedding_labels = y_train.iloc[:, 8],\n",
    "                                                           title = \"Tempeature = 3\",\n",
    "                                                           cmap = \"coolwarm\")\n",
    "ax6 = plt.subplot(326, projection = '3d')\n",
    "ax6 = cebra.plot_embedding(ax=ax6, embedding=embedding_5_comb3,\n",
    "                                                           embedding_labels = y_train.iloc[:, 8],\n",
    "                                                           title = \"Tempeature = 5\",\n",
    "                                                           cmap = \"coolwarm\")\n",
    "\n",
    "fig.show()"
   ]
  },
  {
   "cell_type": "code",
   "execution_count": null,
   "metadata": {
    "colab": {
     "base_uri": "https://localhost:8080/"
    },
    "id": "tr5gGMLRtMKh",
    "outputId": "b30e8857-3338-4b26-cb63-944f5a30360b"
   },
   "outputs": [],
   "source": [
    "# Model\n",
    "cebra_behavior_model_comb3 = CEBRA(model_architecture='offset10-model',\n",
    "                                   learning_rate = learning_rate,\n",
    "                                   temperature = 1,\n",
    "                                   output_dimension = output_dimension,\n",
    "                                   max_iterations = max_iterations,\n",
    "                                   distance = distance,\n",
    "                                   conditional = conditional,\n",
    "                                   num_hidden_units = num_hidden_units,\n",
    "                                   device = 'cuda_if_available',\n",
    "                                   verbose = True,\n",
    "                                   time_offsets = time_offsets)\n",
    "\n",
    "# Fit and get embedding\n",
    "cebra_behavior_model_comb3.fit(X_train, y_train_comb)\n",
    "cebra_behavior_model_comb3_embedding = cebra_behavior_model_comb3.transform(X_train)\n",
    "\n",
    "# Obtain InfoNCE loss\n",
    "InfoNCELoss3 = cebra_behavior_model_comb3.state_dict_['loss']"
   ]
  },
  {
   "cell_type": "code",
   "execution_count": null,
   "metadata": {
    "colab": {
     "base_uri": "https://localhost:8080/",
     "height": 534
    },
    "id": "sqVjaos-tSi0",
    "outputId": "152bb5e5-5020-434a-e5c3-fc64caf080c5"
   },
   "outputs": [],
   "source": [
    "# Visualized embedding\n",
    "fig = cebra.integrations.plotly.plot_embedding_interactive(cebra_behavior_model_comb3_embedding,\n",
    "                                                           embedding_labels = y_train.iloc[:, 8],\n",
    "                                                           title = \"[Tone Active]\",\n",
    "                                                           cmap = \"coolwarm\")\n",
    "fig.show()"
   ]
  },
  {
   "cell_type": "code",
   "execution_count": null,
   "metadata": {},
   "outputs": [],
   "source": [
    "np.random.seed(999)\n",
    "# Extract outcomes\n",
    "\n",
    "# Model_shuffled\n",
    "cebra_behavior_model_comb3_shuffled = CEBRA(model_architecture='offset10-model',\n",
    "                                    learning_rate = learning_rate,\n",
    "                                   temperature = 1,\n",
    "                                   output_dimension = output_dimension,\n",
    "                                   max_iterations = max_iterations,\n",
    "                                   distance = distance,\n",
    "                                   conditional = conditional,\n",
    "                                   num_hidden_units = num_hidden_units,\n",
    "                                   device = 'cuda_if_available',\n",
    "                                   verbose = True,\n",
    "                                   time_offsets = time_offsets)\n",
    "\n",
    "# Fit and get embedding\n",
    "cebra_behavior_model_comb3_shuffled.fit(X_train, np.random.permutation(y_train_comb))\n",
    "cebra_behavior_model_comb3_embedding_shuffled = cebra_behavior_model_comb3_shuffled.transform(X_train)\n",
    "\n",
    "# Obtain InfoNCE loss\n",
    "InfoNCELoss3_shuffled = cebra_behavior_model_comb3_shuffled.state_dict_['loss']"
   ]
  },
  {
   "cell_type": "code",
   "execution_count": null,
   "metadata": {
    "scrolled": false
   },
   "outputs": [],
   "source": [
    "# Visualized embedding\n",
    "fig = cebra.integrations.plotly.plot_embedding_interactive(cebra_behavior_model_comb3_embedding_shuffled,\n",
    "                                                           embedding_labels = y_train.iloc[:, 8],\n",
    "                                                           title = \"[Tone Active] shuffled\",\n",
    "                                                           cmap = \"coolwarm\")\n",
    "fig.show()"
   ]
  },
  {
   "cell_type": "code",
   "execution_count": null,
   "metadata": {},
   "outputs": [],
   "source": [
    "np.savetxt(os.path.join(model_dir,f\"cebra_behavior_model_comb3_embedding {animal_id}.csv\"), cebra_behavior_model_comb3_embedding, delimiter=\",\")\n",
    "np.savetxt(os.path.join(model_dir,f\"cebra_behavior_model_comb3_embedding_shuffled {animal_id}.csv\"), cebra_behavior_model_comb3_embedding_shuffled, delimiter=\",\")\n",
    "torch.save(InfoNCELoss3, os.path.join(model_dir,f\"InfoNCELoss3 {animal_id}.pt\"))\n",
    "torch.save(InfoNCELoss3_shuffled, os.path.join(model_dir,f\"InfoNCELoss3_shuffled {animal_id}.pt\"))\n",
    "cebra_behavior_model_comb3.save(os.path.join(model_dir,f\"cebra_behavior_model_comb3 {animal_id}.pt\"))\n",
    "cebra_behavior_model_comb3_shuffled.save(os.path.join(model_dir,f\"cebra_behavior_model_comb3_shuffled {animal_id}.pt\"))"
   ]
  },
  {
   "cell_type": "markdown",
   "metadata": {},
   "source": [
    "## (4). [Speed]"
   ]
  },
  {
   "cell_type": "markdown",
   "metadata": {},
   "source": [
    "## Best Model Hyperparameters"
   ]
  },
  {
   "cell_type": "code",
   "execution_count": null,
   "metadata": {},
   "outputs": [],
   "source": [
    "res0 = pd.read_csv(os.path.join(output_dir, f'CEBRA_Behavior Training Results 0 (Comb 4) {animal_id}.csv'), index_col=0)\n",
    "res1 = pd.read_csv(os.path.join(output_dir, f'CEBRA_Behavior Training Results 1 (Comb 4) {animal_id}.csv'), index_col=0)\n",
    "res2 = pd.read_csv(os.path.join(output_dir, f'CEBRA_Behavior Training Results 2 (Comb 4) {animal_id}.csv'), index_col=0)\n",
    "res3 = pd.read_csv(os.path.join(output_dir, f'CEBRA_Behavior Training Results 3 (Comb 4) {animal_id}.csv'), index_col=0)\n",
    "res4 = pd.read_csv(os.path.join(output_dir, f'CEBRA_Behavior Training Results 4 (Comb 4) {animal_id}.csv'), index_col=0)"
   ]
  },
  {
   "cell_type": "code",
   "execution_count": null,
   "metadata": {},
   "outputs": [],
   "source": [
    "# Training result\n",
    "modelPerformence = pd.concat([res0, res1, res2, res3, res4])\n",
    "\n",
    "# Extract min value of convergence\n",
    "Logic = modelPerformence.loc[:, 'Accuracy_Testing'] == min(modelPerformence[modelPerformence.loc[:, 'output_dimension']==3].loc[:, 'Accuracy_Testing'])\n",
    "# Logic = modelPerformence.loc[:, 'Accuracy_Testing'] == min(modelPerformence.loc[:, 'Accuracy_Testing'])\n",
    "bestModelPara = modelPerformence[Logic]\n",
    "bestModelPara"
   ]
  },
  {
   "cell_type": "code",
   "execution_count": null,
   "metadata": {},
   "outputs": [],
   "source": [
    "batch_size = bestModelPara.batch_size.values[0]\n",
    "learning_rate = bestModelPara.learning_rate.values[0]\n",
    "output_dimension = bestModelPara.output_dimension.values[0]\n",
    "max_iterations = 10000\n",
    "distance = bestModelPara.distance.values[0]\n",
    "conditional = bestModelPara.conditional.values[0]\n",
    "num_hidden_units = bestModelPara.num_hidden_units.values[0]\n",
    "time_offsets = bestModelPara.time_offsets.values[0]\n",
    "temperature = 1\n",
    "y_train_comb = y_train.iloc[:, [2]].to_numpy()"
   ]
  },
  {
   "cell_type": "code",
   "execution_count": null,
   "metadata": {
    "scrolled": true
   },
   "outputs": [],
   "source": [
    "# Temperature = 1 (default) ##################################################################################\n",
    "cebra_behavior_model_comb4 = CEBRA(model_architecture='offset10-model',\n",
    "                                   learning_rate = learning_rate,\n",
    "                                   temperature = 1,\n",
    "                                   output_dimension = output_dimension,\n",
    "                                   max_iterations = max_iterations,\n",
    "                                   distance = distance,\n",
    "                                   conditional = conditional,\n",
    "                                   num_hidden_units = num_hidden_units,\n",
    "                                   device = 'cuda_if_available',\n",
    "                                   verbose = True,\n",
    "                                   time_offsets = time_offsets)\n",
    "\n",
    "# Model fitting\n",
    "cebra_behavior_model_comb4 .fit(X_train, y_train_comb)\n",
    "# Extract embedding vector\n",
    "embedding_comb4 = cebra_behavior_model_comb4.transform(X_train)\n",
    "\n",
    "# Temperature = 0.001 #########################################################################################\n",
    "cebra_behavior_model_00001_comb4 =CEBRA(model_architecture='offset10-model',\n",
    "                                   learning_rate = learning_rate,\n",
    "                                   temperature = 0.001,\n",
    "                                   output_dimension = output_dimension,\n",
    "                                   max_iterations = max_iterations,\n",
    "                                   distance = distance,\n",
    "                                   conditional = conditional,\n",
    "                                   num_hidden_units = num_hidden_units,\n",
    "                                   device = 'cuda_if_available',\n",
    "                                   verbose = True,\n",
    "                                   time_offsets = time_offsets)\n",
    "# Model fitting\n",
    "cebra_behavior_model_00001_comb4.fit(X_train, y_train_comb)\n",
    "# Extract embedding vector\n",
    "embedding_00001_comb4 = cebra_behavior_model_00001_comb4.transform(X_train)\n",
    "\n",
    "# Temperature = 0.1 #############################################################################################\n",
    "cebra_behavior_model_01_comb4 = CEBRA(model_architecture='offset10-model',\n",
    "                                   learning_rate = learning_rate,\n",
    "                                   temperature = 0.1,\n",
    "                                   output_dimension = output_dimension,\n",
    "                                   max_iterations = max_iterations,\n",
    "                                   distance = distance,\n",
    "                                   conditional = conditional,\n",
    "                                   num_hidden_units = num_hidden_units,\n",
    "                                   device = 'cuda_if_available',\n",
    "                                   verbose = True,\n",
    "                                   time_offsets = time_offsets)\n",
    "\n",
    "# Model fitting\n",
    "cebra_behavior_model_01_comb4.fit(X_train, y_train_comb)\n",
    "# Extract embedding vector\n",
    "embedding_01_comb4 = cebra_behavior_model_01_comb4.transform(X_train)\n",
    "\n",
    "# Temperature = 2 ################################################################################################\n",
    "cebra_behavior_model_2_comb4 = CEBRA(model_architecture='offset10-model',\n",
    "                                   learning_rate = learning_rate,\n",
    "                                   temperature = 2,\n",
    "                                   output_dimension = output_dimension,\n",
    "                                   max_iterations = max_iterations,\n",
    "                                   distance = distance,\n",
    "                                   conditional = conditional,\n",
    "                                   num_hidden_units = num_hidden_units,\n",
    "                                   device = 'cuda_if_available',\n",
    "                                   verbose = True,\n",
    "                                   time_offsets = time_offsets)\n",
    "\n",
    "# Model fitting\n",
    "cebra_behavior_model_2_comb4.fit(X_train, y_train_comb)\n",
    "# Extract embedding vector\n",
    "embedding_2_comb4 = cebra_behavior_model_2_comb4.transform(X_train)\n",
    "\n",
    "# Temperature = 3 ################################################################################################\n",
    "cebra_behavior_model_3_comb4 = CEBRA(model_architecture='offset10-model',\n",
    "                                   learning_rate = learning_rate,\n",
    "                                   temperature = 3,\n",
    "                                   output_dimension = output_dimension,\n",
    "                                   max_iterations = max_iterations,\n",
    "                                   distance = distance,\n",
    "                                   conditional = conditional,\n",
    "                                   num_hidden_units = num_hidden_units,\n",
    "                                   device = 'cuda_if_available',\n",
    "                                   verbose = True,\n",
    "                                   time_offsets = time_offsets)\n",
    "# Model fitting\n",
    "cebra_behavior_model_3_comb4.fit(X_train, y_train_comb)\n",
    "# Extract embedding vector\n",
    "embedding_3_comb4 = cebra_behavior_model_3_comb4.transform(X_train)\n",
    "\n",
    "# Temperature = 5 ################################################################################################\n",
    "cebra_behavior_model_5_comb4 = CEBRA(model_architecture='offset10-model',\n",
    "                                   learning_rate = learning_rate,\n",
    "                                   temperature = 5,\n",
    "                                   output_dimension = output_dimension,\n",
    "                                   max_iterations = max_iterations,\n",
    "                                   distance = distance,\n",
    "                                   conditional = conditional,\n",
    "                                   num_hidden_units = num_hidden_units,\n",
    "                                   device = 'cuda_if_available',\n",
    "                                   verbose = True,\n",
    "                                   time_offsets = time_offsets)\n",
    "\n",
    "# Model fitting\n",
    "cebra_behavior_model_5_comb4.fit(X_train, y_train_comb)\n",
    "# Extract embedding vector\n",
    "embedding_5_comb4 = cebra_behavior_model_5_comb4.transform(X_train)"
   ]
  },
  {
   "cell_type": "code",
   "execution_count": null,
   "metadata": {},
   "outputs": [],
   "source": [
    "fig = plt.figure(figsize = (10, 10))\n",
    "ax1 = plt.subplot(321, projection = '3d')\n",
    "\n",
    "# Visualized embedding\n",
    "ax1 = cebra.plot_embedding(ax=ax1, embedding=embedding_00001_comb4,\n",
    "                                                           embedding_labels = y_train.iloc[:, 2],\n",
    "                                                           title = \"Tempeature = 0.001\",\n",
    "                                                           cmap = \"gist_rainbow\")\n",
    "ax2 = plt.subplot(322, projection = '3d')\n",
    "\n",
    "ax2 = cebra.plot_embedding(ax=ax2, embedding=embedding_01_comb4,\n",
    "                                                           embedding_labels = y_train.iloc[:, 2],\n",
    "                                                           title = \"Tempeature = 0.1\",\n",
    "                                                           cmap = \"gist_rainbow\")\n",
    "\n",
    "ax3 = plt.subplot(323, projection = '3d')\n",
    "ax3 = cebra.plot_embedding(ax=ax3, embedding=embedding_comb4,\n",
    "                                                           embedding_labels = y_train.iloc[:, 2],\n",
    "                                                           title = \"Tempeature = 1\",\n",
    "                                                           cmap = \"gist_rainbow\")\n",
    "ax4 = plt.subplot(324, projection = '3d')\n",
    "ax4 = cebra.plot_embedding(ax=ax4, embedding=embedding_2_comb4,\n",
    "                                                           embedding_labels = y_train.iloc[:, 2],\n",
    "                                                           title = \"Tempeature = 2\",\n",
    "                                                           cmap = \"gist_rainbow\")\n",
    "ax5 = plt.subplot(325, projection = '3d')\n",
    "ax5 = cebra.plot_embedding(ax=ax5, embedding=embedding_3_comb4,\n",
    "                                                           embedding_labels = y_train.iloc[:, 2],\n",
    "                                                           title = \"Tempeature = 3\",\n",
    "                                                           cmap = \"gist_rainbow\")\n",
    "ax6 = plt.subplot(326, projection = '3d')\n",
    "ax6 = cebra.plot_embedding(ax=ax6, embedding=embedding_5_comb4,\n",
    "                                                           embedding_labels = y_train.iloc[:, 2],\n",
    "                                                           title = \"Tempeature = 5\",\n",
    "                                                           cmap = \"gist_rainbow\")\n",
    "\n",
    "fig.show()"
   ]
  },
  {
   "cell_type": "code",
   "execution_count": null,
   "metadata": {
    "colab": {
     "base_uri": "https://localhost:8080/"
    },
    "id": "tr5gGMLRtMKh",
    "outputId": "b30e8857-3338-4b26-cb63-944f5a30360b"
   },
   "outputs": [],
   "source": [
    "# Model\n",
    "cebra_behavior_model_comb4 = CEBRA(model_architecture='offset10-model',\n",
    "                                   learning_rate = learning_rate,\n",
    "                                   temperature = 1,\n",
    "                                   output_dimension = output_dimension,\n",
    "                                   max_iterations = max_iterations,\n",
    "                                   distance = distance,\n",
    "                                   conditional = conditional,\n",
    "                                   num_hidden_units = num_hidden_units,\n",
    "                                   device = 'cuda_if_available',\n",
    "                                   verbose = True,\n",
    "                                   time_offsets = time_offsets)\n",
    "\n",
    "# Fit and get embedding\n",
    "cebra_behavior_model_comb4.fit(X_train, y_train_comb)\n",
    "cebra_behavior_model_comb4_embedding = cebra_behavior_model_comb4.transform(X_train)\n",
    "\n",
    "# Obtain InfoNCE loss\n",
    "InfoNCELoss4 = cebra_behavior_model_comb4.state_dict_['loss']"
   ]
  },
  {
   "cell_type": "code",
   "execution_count": null,
   "metadata": {
    "colab": {
     "base_uri": "https://localhost:8080/",
     "height": 534
    },
    "id": "sqVjaos-tSi0",
    "outputId": "152bb5e5-5020-434a-e5c3-fc64caf080c5"
   },
   "outputs": [],
   "source": [
    "# Visualized embedding\n",
    "fig = cebra.integrations.plotly.plot_embedding_interactive(cebra_behavior_model_comb4_embedding,\n",
    "                                                           embedding_labels = y_train.iloc[:, 2],\n",
    "                                                           title = \"[Speed]\",\n",
    "                                                           cmap = \"gist_rainbow\")\n",
    "fig.show()"
   ]
  },
  {
   "cell_type": "code",
   "execution_count": null,
   "metadata": {},
   "outputs": [],
   "source": [
    "np.random.seed(999)\n",
    "# Extract outcomes\n",
    "\n",
    "# Model_shuffled\n",
    "cebra_behavior_model_comb4_shuffled = CEBRA(model_architecture='offset10-model',\n",
    "                                    learning_rate = learning_rate,\n",
    "                                   temperature = 2,\n",
    "                                   output_dimension = output_dimension,\n",
    "                                   max_iterations = max_iterations,\n",
    "                                   distance = distance,\n",
    "                                   conditional = conditional,\n",
    "                                   num_hidden_units = num_hidden_units,\n",
    "                                   device = 'cuda_if_available',\n",
    "                                   verbose = True,\n",
    "                                   time_offsets = time_offsets)\n",
    "\n",
    "# Fit and get embedding\n",
    "cebra_behavior_model_comb4_shuffled.fit(X_train, np.random.permutation(y_train_comb))\n",
    "cebra_behavior_model_comb4_embedding_shuffled = cebra_behavior_model_comb4_shuffled.transform(X_train)\n",
    "\n",
    "# Obtain InfoNCE loss\n",
    "InfoNCELoss4_shuffled = cebra_behavior_model_comb4_shuffled.state_dict_['loss']"
   ]
  },
  {
   "cell_type": "code",
   "execution_count": null,
   "metadata": {
    "scrolled": false
   },
   "outputs": [],
   "source": [
    "# Visualized embedding\n",
    "fig = cebra.integrations.plotly.plot_embedding_interactive(cebra_behavior_model_comb4_embedding_shuffled,\n",
    "                                                           embedding_labels = y_train.iloc[:, 2],\n",
    "                                                           title = \"[Speed] shuffled\",\n",
    "                                                           cmap = \"gist_rainbow\")\n",
    "fig.show()"
   ]
  },
  {
   "cell_type": "code",
   "execution_count": null,
   "metadata": {},
   "outputs": [],
   "source": [
    "np.savetxt(os.path.join(model_dir,f\"cebra_behavior_model_comb4_embedding {animal_id}.csv\"), cebra_behavior_model_comb4_embedding, delimiter=\",\")\n",
    "np.savetxt(os.path.join(model_dir,f\"cebra_behavior_model_comb4_embedding_shuffled {animal_id}.csv\"), cebra_behavior_model_comb4_embedding_shuffled, delimiter=\",\")\n",
    "torch.save(InfoNCELoss4, os.path.join(model_dir,f\"InfoNCELoss4 {animal_id}.pt\"))\n",
    "torch.save(InfoNCELoss4_shuffled, os.path.join(model_dir,f\"InfoNCELoss4_shuffled {animal_id}.pt\"))\n",
    "cebra_behavior_model_comb4.save(os.path.join(model_dir,f\"cebra_behavior_model_comb4 {animal_id}.pt\"))\n",
    "cebra_behavior_model_comb4_shuffled.save(os.path.join(model_dir,f\"cebra_behavior_model_comb4_shuffled {animal_id}.pt\"))"
   ]
  },
  {
   "cell_type": "markdown",
   "metadata": {
    "id": "3vqc2XGYtpGl"
   },
   "source": [
    "# 4. Model evaluation"
   ]
  },
  {
   "cell_type": "code",
   "execution_count": null,
   "metadata": {},
   "outputs": [],
   "source": [
    "InfoNCELoss1 = torch.load(os.path.join(model_dir, f\"InfoNCELoss1 {animal_id}.pt\"))\n",
    "InfoNCELoss1_shuffled = torch.load(os.path.join(model_dir, f\"InfoNCELoss1_shuffled {animal_id}.pt\"))\n",
    "InfoNCELoss2 = torch.load(os.path.join(model_dir, f\"InfoNCELoss2 {animal_id}.pt\"))\n",
    "InfoNCELoss2_shuffled = torch.load(os.path.join(model_dir, f\"InfoNCELoss2_shuffled {animal_id}.pt\"))\n",
    "InfoNCELoss3 = torch.load(os.path.join(model_dir, f\"InfoNCELoss3 {animal_id}.pt\"))\n",
    "InfoNCELoss3_shuffled = torch.load(os.path.join(model_dir, f\"InfoNCELoss3_shuffled {animal_id}.pt\"))\n",
    "InfoNCELoss4 = torch.load(os.path.join(model_dir, f\"InfoNCELoss4 {animal_id}.pt\"))\n",
    "InfoNCELoss4_shuffled = torch.load(os.path.join(model_dir, f\"InfoNCELoss4_shuffled {animal_id}.pt\"))"
   ]
  },
  {
   "cell_type": "code",
   "execution_count": null,
   "metadata": {
    "colab": {
     "base_uri": "https://localhost:8080/",
     "height": 465
    },
    "id": "3ay7CVjytqpt",
    "outputId": "77df54c8-d3ff-4c0d-8b7b-8e8b0adef6c4"
   },
   "outputs": [],
   "source": [
    "fig = plt.figure(figsize=(5,5), dpi = 300)\n",
    "ax = plt.subplot(111)\n",
    "ax.plot(InfoNCELoss1, c='deepskyblue', label = 'Freezing, In Hidden Area')\n",
    "ax.plot(InfoNCELoss2, c='yellow', alpha = 0.6, label = 'In Food Area, Bar Press Active')\n",
    "ax.plot(InfoNCELoss3, c='pink', alpha=0.6,label = 'Tone Active')\n",
    "ax.plot(InfoNCELoss4, c='green', alpha=0.6,label = 'Speed')\n",
    "ax.plot(InfoNCELoss1_shuffled, c='gray', label = 'Freezing, In Hidden Area Shuffled')\n",
    "ax.plot(InfoNCELoss2_shuffled, c='lightgray', alpha = 0.6, label = 'In Food Area, Bar Press Active Shuffled')\n",
    "ax.plot(InfoNCELoss3_shuffled, c='darkgray', alpha=0.6,label = 'Tone Active Shuffled')\n",
    "ax.plot(InfoNCELoss4_shuffled, c='black', alpha=0.6,label = 'Speed Shuffled')\n",
    "\n",
    "ax.spines['top'].set_visible(False)\n",
    "ax.spines['right'].set_visible(False)\n",
    "ax.set_xlabel('Iterations')\n",
    "ax.set_ylabel('InfoNCE Loss')\n",
    "plt.legend(bbox_to_anchor=(0.3,0.7), frameon = False )\n",
    "plt.show()"
   ]
  },
  {
   "cell_type": "code",
   "execution_count": null,
   "metadata": {},
   "outputs": [],
   "source": [
    "cebra_behavior_model_comb1_embedding = np.loadtxt(os.path.join(model_dir, f\"cebra_behavior_model_comb1_embedding {animal_id}.csv\"), delimiter = ',')\n",
    "cebra_behavior_model_comb2_embedding = np.loadtxt(os.path.join(model_dir, f\"cebra_behavior_model_comb2_embedding {animal_id}.csv\"), delimiter = ',')\n",
    "cebra_behavior_model_comb3_embedding = np.loadtxt(os.path.join(model_dir, f\"cebra_behavior_model_comb3_embedding {animal_id}.csv\"), delimiter = ',')\n",
    "cebra_behavior_model_comb4_embedding = np.loadtxt(os.path.join(model_dir, f\"cebra_behavior_model_comb4_embedding {animal_id}.csv\"), delimiter = ',')\n",
    "cebra_behavior_model_comb1_embedding_shuffled = np.loadtxt(os.path.join(model_dir, f\"cebra_behavior_model_comb1_embedding_shuffled {animal_id}.csv\"), delimiter = ',')\n",
    "cebra_behavior_model_comb2_embedding_shuffled = np.loadtxt(os.path.join(model_dir, f\"cebra_behavior_model_comb2_embedding_shuffled {animal_id}.csv\"), delimiter = ',')\n",
    "cebra_behavior_model_comb3_embedding_shuffled = np.loadtxt(os.path.join(model_dir, f\"cebra_behavior_model_comb3_embedding_shuffled {animal_id}.csv\"), delimiter = ',')\n",
    "cebra_behavior_model_comb4_embedding_shuffled = np.loadtxt(os.path.join(model_dir, f\"cebra_behavior_model_comb4_embedding_shuffled {animal_id}.csv\"), delimiter = ',')\n"
   ]
  },
  {
   "cell_type": "code",
   "execution_count": null,
   "metadata": {},
   "outputs": [],
   "source": [
    "fig=plt.figure(figsize=(10,6))\n",
    "ax1=plt.subplot(241, projection = '3d')\n",
    "ax2=plt.subplot(242, projection = '3d')\n",
    "ax3=plt.subplot(243, projection = '3d')\n",
    "ax4=plt.subplot(244, projection = '3d')\n",
    "ax5=plt.subplot(245, projection = '3d')\n",
    "ax6=plt.subplot(246, projection = '3d')\n",
    "ax7=plt.subplot(247, projection = '3d')\n",
    "ax8=plt.subplot(248, projection = '3d')\n",
    "\n",
    "ax1 = cebra.plot_embedding(ax=ax1, embedding=cebra_behavior_model_comb1_embedding_shuffled,\n",
    "                                                           embedding_labels = y_train.iloc[:, 1],\n",
    "                                                           title = \"Freezing + Avoidance Shuffled\",\n",
    "                                                           cmap = \"gist_rainbow\")\n",
    "\n",
    "ax2 = cebra.plot_embedding(ax=ax2, embedding=cebra_behavior_model_comb2_embedding_shuffled,\n",
    "                                                           embedding_labels = y_train.iloc[:, 1],\n",
    "                                                           title = \"Lever Press + Approach Shuffled\",\n",
    "                                                           cmap = \"gist_rainbow\")\n",
    "\n",
    "ax3 = cebra.plot_embedding(ax=ax3, embedding=cebra_behavior_model_comb3_embedding_shuffled,\n",
    "                                                           embedding_labels = y_train.iloc[:, 1],\n",
    "                                                           title = \"Tone Active Shuffled\",\n",
    "                                                           cmap = \"gist_rainbow\")\n",
    "\n",
    "ax4 = cebra.plot_embedding(ax=ax4, embedding=cebra_behavior_model_comb4_embedding_shuffled,\n",
    "                                                           embedding_labels = y_train.iloc[:, 1],\n",
    "                                                           title = \"Speed Shuffled\",\n",
    "                                                           cmap = \"gist_rainbow\")\n",
    "\n",
    "ax5 = cebra.plot_embedding(ax=ax5, embedding=cebra_behavior_model_comb1_embedding,\n",
    "                                                           embedding_labels = y_train.iloc[:, 1],\n",
    "                                                           title = \"Freezing + Avoidance\",\n",
    "                                                           cmap = \"gist_rainbow\")\n",
    "\n",
    "ax6 = cebra.plot_embedding(ax=ax6, embedding=cebra_behavior_model_comb2_embedding,\n",
    "                                                           embedding_labels = y_train.iloc[:, 1],\n",
    "                                                           title = \"Lever Press + Approach\",\n",
    "                                                           cmap = \"gist_rainbow\")\n",
    "\n",
    "ax7 = cebra.plot_embedding(ax=ax7, embedding=cebra_behavior_model_comb3_embedding,\n",
    "                                                           embedding_labels = y_train.iloc[:, 1],\n",
    "                                                           title = \"Tone Active\",\n",
    "                                                           cmap = \"gist_rainbow\")\n",
    "ax8 = cebra.plot_embedding(ax=ax8, embedding=cebra_behavior_model_comb4_embedding,\n",
    "                                                           embedding_labels = y_train.iloc[:, 1],\n",
    "                                                           title = \"Speed\",\n",
    "                                                           cmap = \"gist_rainbow\")\n",
    "\n",
    "ax1.title.set_size(6)\n",
    "ax2.title.set_size(6)\n",
    "ax3.title.set_size(6)\n",
    "ax4.title.set_size(6)\n",
    "ax5.title.set_size(6)\n",
    "ax6.title.set_size(6)\n",
    "ax7.title.set_size(6)\n",
    "ax8.title.set_size(6)"
   ]
  },
  {
   "cell_type": "code",
   "execution_count": null,
   "metadata": {},
   "outputs": [],
   "source": [
    "fig=plt.figure(figsize=(15,6), dpi = 300)\n",
    "ax1=plt.subplot(241, projection = '3d')\n",
    "ax2=plt.subplot(242, projection = '3d')\n",
    "ax3=plt.subplot(243, projection = '3d')\n",
    "ax4=plt.subplot(244, projection = '3d')\n",
    "ax5=plt.subplot(245, projection = '3d')\n",
    "ax6=plt.subplot(246, projection = '3d')\n",
    "ax7=plt.subplot(247, projection = '3d')\n",
    "ax8=plt.subplot(248, projection = '3d')\n",
    "\n",
    "ax1 = cebra.plot_embedding(ax=ax1, embedding=cebra_behavior_model_comb1_embedding_shuffled,\n",
    "                                                           embedding_labels = y_train.iloc[:, 3],\n",
    "                                                           title = \"Freezing + Avoidance Shuffled\",\n",
    "                                                           cmap = \"crest\", markersize= 6)\n",
    "\n",
    "ax2 = cebra.plot_embedding(ax=ax2, embedding=cebra_behavior_model_comb2_embedding_shuffled,\n",
    "                                                           embedding_labels = y_train.iloc[:, 4],\n",
    "                                                           title = \"Lever Press + Approach Shuffled\",\n",
    "                                                           cmap = \"flare\", markersize= 6)\n",
    "\n",
    "ax3 = cebra.plot_embedding(ax=ax3, embedding=cebra_behavior_model_comb3_embedding_shuffled,\n",
    "                                                           embedding_labels = y_train.iloc[:, 8],\n",
    "                                                           title = \"Tone Active Shuffled\",\n",
    "                                                           cmap = \"coolwarm\", markersize= 6)\n",
    "\n",
    "ax4 = cebra.plot_embedding(ax=ax4, embedding=cebra_behavior_model_comb4_embedding_shuffled,\n",
    "                                                           embedding_labels = y_train.iloc[:, 2],\n",
    "                                                           title = \"Speed Shuffled\",\n",
    "                                                           cmap = \"gist_rainbow\", markersize= 6)\n",
    "\n",
    "ax5 = cebra.plot_embedding(ax=ax5, embedding=cebra_behavior_model_comb1_embedding,\n",
    "                                                           embedding_labels = y_train.iloc[:, 3],\n",
    "                                                           title = \"Freezing + Avoidance\",\n",
    "                                                           cmap = \"crest\", markersize= 6)\n",
    "\n",
    "ax6 = cebra.plot_embedding(ax=ax6, embedding=cebra_behavior_model_comb2_embedding,\n",
    "                                                           embedding_labels = y_train.iloc[:, 4],\n",
    "                                                           title = \"Lever Press + Approach\",\n",
    "                                                           cmap = \"flare\", markersize= 6)\n",
    "\n",
    "ax7 = cebra.plot_embedding(ax=ax7, embedding=cebra_behavior_model_comb3_embedding,\n",
    "                                                           embedding_labels = y_train.iloc[:, 8],\n",
    "                                                           title = \"Tone Active\",\n",
    "                                                           cmap = \"coolwarm\", markersize= 6)\n",
    "ax8 = cebra.plot_embedding(ax=ax8, embedding=cebra_behavior_model_comb4_embedding,\n",
    "                                                           embedding_labels = y_train.iloc[:, 2],\n",
    "                                                           title = \"Speed\",\n",
    "                                                           cmap = \"gist_rainbow\", markersize= 6)\n",
    "ax1.view_init(elev=30, azim=65)\n",
    "ax2.view_init(elev=30, azim=65)\n",
    "ax3.view_init(elev=30, azim=65)\n",
    "ax4.view_init(elev=30, azim=65)\n",
    "ax5.view_init(elev=30, azim=65)\n",
    "ax6.view_init(elev=30, azim=65)\n",
    "ax7.view_init(elev=30, azim=65)\n",
    "ax8.view_init(elev=30, azim=65)\n",
    "\n",
    "ax1.title.set_size(10)\n",
    "ax2.title.set_size(10)\n",
    "ax3.title.set_size(10)\n",
    "ax4.title.set_size(10)\n",
    "ax5.title.set_size(10)\n",
    "ax6.title.set_size(10)\n",
    "ax7.title.set_size(10)\n",
    "ax8.title.set_size(10)\n",
    "\n",
    "plt.tight_layout()\n"
   ]
  },
  {
   "cell_type": "code",
   "execution_count": 62,
   "metadata": {},
   "outputs": [
    {
     "data": {
      "text/html": [
       "<div>\n",
       "<style scoped>\n",
       "    .dataframe tbody tr th:only-of-type {\n",
       "        vertical-align: middle;\n",
       "    }\n",
       "\n",
       "    .dataframe tbody tr th {\n",
       "        vertical-align: top;\n",
       "    }\n",
       "\n",
       "    .dataframe thead th {\n",
       "        text-align: right;\n",
       "    }\n",
       "</style>\n",
       "<table border=\"1\" class=\"dataframe\">\n",
       "  <thead>\n",
       "    <tr style=\"text-align: right;\">\n",
       "      <th></th>\n",
       "      <th>Timepoint</th>\n",
       "      <th>Time</th>\n",
       "      <th>Speed</th>\n",
       "      <th>Freezing</th>\n",
       "      <th>In Food Area</th>\n",
       "      <th>In Hidden Area</th>\n",
       "      <th>Bar Press active</th>\n",
       "    </tr>\n",
       "  </thead>\n",
       "  <tbody>\n",
       "    <tr>\n",
       "      <th>0</th>\n",
       "      <td>1</td>\n",
       "      <td>0.503476</td>\n",
       "      <td>0.033189</td>\n",
       "      <td>0.0</td>\n",
       "      <td>1.0</td>\n",
       "      <td>0.0</td>\n",
       "      <td>0.404298</td>\n",
       "    </tr>\n",
       "    <tr>\n",
       "      <th>3</th>\n",
       "      <td>4</td>\n",
       "      <td>3.564800</td>\n",
       "      <td>0.030437</td>\n",
       "      <td>0.0</td>\n",
       "      <td>1.0</td>\n",
       "      <td>0.0</td>\n",
       "      <td>0.000000</td>\n",
       "    </tr>\n",
       "    <tr>\n",
       "      <th>6</th>\n",
       "      <td>7</td>\n",
       "      <td>6.601350</td>\n",
       "      <td>0.034388</td>\n",
       "      <td>0.0</td>\n",
       "      <td>1.0</td>\n",
       "      <td>0.0</td>\n",
       "      <td>0.000000</td>\n",
       "    </tr>\n",
       "    <tr>\n",
       "      <th>7</th>\n",
       "      <td>8</td>\n",
       "      <td>7.613600</td>\n",
       "      <td>0.020604</td>\n",
       "      <td>0.0</td>\n",
       "      <td>1.0</td>\n",
       "      <td>0.0</td>\n",
       "      <td>0.000000</td>\n",
       "    </tr>\n",
       "    <tr>\n",
       "      <th>8</th>\n",
       "      <td>9</td>\n",
       "      <td>8.625450</td>\n",
       "      <td>0.022202</td>\n",
       "      <td>0.0</td>\n",
       "      <td>1.0</td>\n",
       "      <td>0.0</td>\n",
       "      <td>0.000000</td>\n",
       "    </tr>\n",
       "    <tr>\n",
       "      <th>...</th>\n",
       "      <td>...</td>\n",
       "      <td>...</td>\n",
       "      <td>...</td>\n",
       "      <td>...</td>\n",
       "      <td>...</td>\n",
       "      <td>...</td>\n",
       "      <td>...</td>\n",
       "    </tr>\n",
       "    <tr>\n",
       "      <th>1765</th>\n",
       "      <td>1766</td>\n",
       "      <td>1770.098000</td>\n",
       "      <td>0.032000</td>\n",
       "      <td>0.0</td>\n",
       "      <td>1.0</td>\n",
       "      <td>0.0</td>\n",
       "      <td>0.000000</td>\n",
       "    </tr>\n",
       "    <tr>\n",
       "      <th>1766</th>\n",
       "      <td>1767</td>\n",
       "      <td>1770.098000</td>\n",
       "      <td>0.032000</td>\n",
       "      <td>0.0</td>\n",
       "      <td>1.0</td>\n",
       "      <td>0.0</td>\n",
       "      <td>0.000000</td>\n",
       "    </tr>\n",
       "    <tr>\n",
       "      <th>1767</th>\n",
       "      <td>1768</td>\n",
       "      <td>1770.098000</td>\n",
       "      <td>0.032000</td>\n",
       "      <td>0.0</td>\n",
       "      <td>1.0</td>\n",
       "      <td>0.0</td>\n",
       "      <td>0.000000</td>\n",
       "    </tr>\n",
       "    <tr>\n",
       "      <th>1768</th>\n",
       "      <td>1769</td>\n",
       "      <td>1770.098000</td>\n",
       "      <td>0.032000</td>\n",
       "      <td>0.0</td>\n",
       "      <td>1.0</td>\n",
       "      <td>0.0</td>\n",
       "      <td>0.000000</td>\n",
       "    </tr>\n",
       "    <tr>\n",
       "      <th>1769</th>\n",
       "      <td>1770</td>\n",
       "      <td>1770.098000</td>\n",
       "      <td>0.032000</td>\n",
       "      <td>0.0</td>\n",
       "      <td>1.0</td>\n",
       "      <td>0.0</td>\n",
       "      <td>0.000000</td>\n",
       "    </tr>\n",
       "  </tbody>\n",
       "</table>\n",
       "<p>1416 rows × 7 columns</p>\n",
       "</div>"
      ],
      "text/plain": [
       "      Timepoint         Time     Speed  Freezing  In Food Area  \\\n",
       "0             1     0.503476  0.033189       0.0           1.0   \n",
       "3             4     3.564800  0.030437       0.0           1.0   \n",
       "6             7     6.601350  0.034388       0.0           1.0   \n",
       "7             8     7.613600  0.020604       0.0           1.0   \n",
       "8             9     8.625450  0.022202       0.0           1.0   \n",
       "...         ...          ...       ...       ...           ...   \n",
       "1765       1766  1770.098000  0.032000       0.0           1.0   \n",
       "1766       1767  1770.098000  0.032000       0.0           1.0   \n",
       "1767       1768  1770.098000  0.032000       0.0           1.0   \n",
       "1768       1769  1770.098000  0.032000       0.0           1.0   \n",
       "1769       1770  1770.098000  0.032000       0.0           1.0   \n",
       "\n",
       "      In Hidden Area  Bar Press active  \n",
       "0                0.0          0.404298  \n",
       "3                0.0          0.000000  \n",
       "6                0.0          0.000000  \n",
       "7                0.0          0.000000  \n",
       "8                0.0          0.000000  \n",
       "...              ...               ...  \n",
       "1765             0.0          0.000000  \n",
       "1766             0.0          0.000000  \n",
       "1767             0.0          0.000000  \n",
       "1768             0.0          0.000000  \n",
       "1769             0.0          0.000000  \n",
       "\n",
       "[1416 rows x 7 columns]"
      ]
     },
     "execution_count": 62,
     "metadata": {},
     "output_type": "execute_result"
    }
   ],
   "source": [
    "y_train"
   ]
  },
  {
   "cell_type": "code",
   "execution_count": 111,
   "metadata": {},
   "outputs": [],
   "source": [
    "y_train_comb1 = y_train.iloc[:, 1].to_numpy()\n",
    "y_train_labels = [y_train_comb1, y_train_comb1, y_train_comb1, y_train_comb1]\n",
    "embeddings = [cebra_behavior_model_comb1_embedding, cebra_behavior_model_comb2_embedding,\n",
    "              cebra_behavior_model_comb3_embedding, cebra_behavior_model_comb4_embedding]\n",
    "names = [\"Comb1\", \"Comb2\", \"Comb3\", \"Comb4\"]\n"
   ]
  },
  {
   "cell_type": "code",
   "execution_count": 112,
   "metadata": {
    "scrolled": true
   },
   "outputs": [
    {
     "data": {
      "text/plain": [
       "<AxesSubplot:title={'center':'CEBRA-Behavior'}>"
      ]
     },
     "execution_count": 112,
     "metadata": {},
     "output_type": "execute_result"
    },
    {
     "data": {
      "image/png": "[encoded data removed]",
      "text/plain": [
       "<Figure size 500x500 with 1 Axes>"
      ]
     },
     "metadata": {},
     "output_type": "display_data"
    }
   ],
   "source": [
    "scores, pairs, subjects = cebra.sklearn.metrics.consistency_score(embeddings=list(embeddings),\n",
    "                                                                                 labels=y_train_labels,\n",
    "                                                                                 dataset_ids=names,\n",
    "                                                                                 between=\"datasets\")\n",
    "cebra.plot_consistency(scores, pairs=pairs, datasets=subjects,\n",
    "                             title=\"CEBRA-Behavior\", colorbar_label=None)"
   ]
  },
  {
   "cell_type": "markdown",
   "metadata": {},
   "source": [
    "# Decoding"
   ]
  },
  {
   "cell_type": "code",
   "execution_count": null,
   "metadata": {},
   "outputs": [],
   "source": []
  }
 ],
 "metadata": {
  "colab": {
   "provenance": []
  },
  "kernelspec": {
   "display_name": "cebra",
   "language": "python",
   "name": "cebra"
  },
  "language_info": {
   "codemirror_mode": {
    "name": "ipython",
    "version": 3
   },
   "file_extension": ".py",
   "mimetype": "text/x-python",
   "name": "python",
   "nbconvert_exporter": "python",
   "pygments_lexer": "ipython3",
   "version": "3.8.19"
  }
 },
 "nbformat": 4,
 "nbformat_minor": 1
}
