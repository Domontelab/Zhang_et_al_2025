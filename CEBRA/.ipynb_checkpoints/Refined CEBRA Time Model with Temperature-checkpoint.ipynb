{
 "cells": [
  {
   "cell_type": "code",
   "execution_count": 1,
   "id": "505fef9e",
   "metadata": {},
   "outputs": [],
   "source": [
    "#! pip install cebra"
   ]
  },
  {
   "cell_type": "markdown",
   "id": "09af8369",
   "metadata": {},
   "source": [
    "# Package"
   ]
  },
  {
   "cell_type": "code",
   "execution_count": null,
   "id": "7a40595f",
   "metadata": {},
   "outputs": [],
   "source": [
    "import sys\n",
    "\n",
    "import itertools\n",
    "import numpy as np\n",
    "import pandas as pd\n",
    "import matplotlib.pyplot as plt\n",
    "import seaborn as sns\n",
    "from sklearn.manifold import TSNE\n",
    "from sklearn.neighbors import KNeighborsClassifier\n",
    "from sklearn.naive_bayes import GaussianNB\n",
    "from sklearn.linear_model import LinearRegression\n",
    "import random\n",
    "import cebra\n",
    "import cebra.datasets\n",
    "from cebra import CEBRA\n",
    "import cebra.grid_search\n",
    "import time"
   ]
  },
  {
   "cell_type": "markdown",
   "id": "691948fa",
   "metadata": {},
   "source": [
    "# 1. Dataset"
   ]
  },
  {
   "cell_type": "code",
   "execution_count": null,
   "id": "a6c0ff46",
   "metadata": {},
   "outputs": [],
   "source": [
    "Dt = pd.read_csv('1S5.csv')\n",
    "\n",
    "Time = Dt.iloc[:,0]\n",
    "Y = Dt.iloc[:, 2]\n",
    "Label = Dt.iloc[:, 1]\n",
    "X = Dt.iloc[:,3:61]"
   ]
  },
  {
   "cell_type": "markdown",
   "id": "af37c707",
   "metadata": {},
   "source": [
    "# 2. Refined Training"
   ]
  },
  {
   "cell_type": "markdown",
   "id": "a50a7d51",
   "metadata": {},
   "source": [
    "## (1). Training setting"
   ]
  },
  {
   "cell_type": "code",
   "execution_count": null,
   "id": "f8089955",
   "metadata": {},
   "outputs": [],
   "source": [
    "# Self define training function\n",
    "def Self_CEBRA_Time_Training(Toy, X):\n",
    "    # Timer\n",
    "    start_time = time.time()\n",
    "\n",
    "    # DataFrame for evaluation metrics\n",
    "    Performance = pd.DataFrame([])\n",
    "    InfoNCE = []\n",
    "    \n",
    "    n_comb = len(Toy)\n",
    "\n",
    "    for i in range(0, n_comb):\n",
    "        # Extract hyperparameter\n",
    "        Hyper_i = Toy.iloc[i, :]\n",
    "        Hyperpara = {'distance': Hyper_i['distance'], \n",
    "                     'temperature_mode': Hyper_i['temperature_mode'], \n",
    "                     'time_offsets': Hyper_i['time_offsets'], \n",
    "                     'batch_size': Hyper_i['batch_size'],       \n",
    "                     'learning_rate': Hyper_i['learning_rate'], \n",
    "                     'conditional': Hyper_i['conditional'], \n",
    "                     'output_dimension': Hyper_i['output_dimension'], \n",
    "                     'num_hidden_units': Hyper_i['num_hidden_units'], \n",
    "                     'max_iterations': Hyper_i['max_iterations']}\n",
    "\n",
    "        # Extract sub-hyperparameters\n",
    "        cebra_time_model = CEBRA(distance = Hyperpara['distance'],\n",
    "                                 temperature_mode = Hyperpara['temperature_mode'],\n",
    "                                 time_offsets = Hyperpara['time_offsets'],\n",
    "                                 batch_size = Hyperpara['batch_size'],\n",
    "                                 learning_rate = Hyperpara['learning_rate'],\n",
    "                                 conditional = Hyperpara['conditional'],\n",
    "                                 output_dimension = Hyperpara['output_dimension'],\n",
    "                                 num_hidden_units = Hyperpara['num_hidden_units'],\n",
    "                                 max_iterations = Hyperpara['max_iterations'],\n",
    "                                 device = 'cuda_if_available',\n",
    "                                 verbose = True)\n",
    "        \n",
    "        # Model fitting\n",
    "        cebra_time_model.fit(X)\n",
    "        \n",
    "        # Model loss function value\n",
    "        InfoNCELoss = min(cebra_time_model.state_dict_['loss'])\n",
    "        InfoNCE.append(InfoNCELoss.tolist())\n",
    "\n",
    "    print(\"--- %s seconds ---\" % (time.time() - start_time))\n",
    "\n",
    "    # Training performance\n",
    "    dt = {'Accuracy_Testing': InfoNCE}\n",
    "    Performance = pd.DataFrame(dt)\n",
    "\n",
    "    # Combined train and test results\n",
    "    Combined_Rsult = pd.concat([Toy, Performance], axis = 1)\n",
    "    return(Combined_Rsult)"
   ]
  },
  {
   "cell_type": "code",
   "execution_count": null,
   "id": "559da25f",
   "metadata": {},
   "outputs": [],
   "source": [
    "distance = ['cosine']               \n",
    "temperature_mode = ['auto', 0.001, 0.01, 0.1, 0.5]                     \n",
    "time_offsets = [10]   \n",
    "batch_size = [None]              \n",
    "learning_rate = [0.0001, 0.001, 0.01, 0.1, 1]    \n",
    "conditional = ['time']                            \n",
    "output_dimension = [2, 3, 5, 10, 15]       \n",
    "num_hidden_units = [32, 50, 75]                 \n",
    "max_iterations = [10000]                           \n",
    "\n",
    "\n",
    "# Put into a matrix\n",
    "Hyperparameter_Space = [(a,b,c,d,e,f,g,h,i) \n",
    "                        for a in distance \n",
    "                        for b in temperature_mode \n",
    "                        for c in time_offsets \n",
    "                        for d in batch_size \n",
    "                        for e in learning_rate \n",
    "                        for f in conditional \n",
    "                        for g in output_dimension\n",
    "                        for h in num_hidden_units\n",
    "                        for i in max_iterations]\n",
    "Hyperparameter_Mat = pd.DataFrame(Hyperparameter_Space)\n",
    "Hyperparameter_Mat.columns = ['distance', 'temperature_mode', 'time_offsets', 'batch_size', \n",
    "                              'learning_rate', 'conditional', 'output_dimension', 'num_hidden_units', 'max_iterations']\n",
    "Hyperparameter_Mat"
   ]
  },
  {
   "cell_type": "markdown",
   "id": "09eb212d",
   "metadata": {},
   "source": [
    "## (2). Training procedure"
   ]
  },
  {
   "cell_type": "code",
   "execution_count": null,
   "id": "851d9fbf",
   "metadata": {},
   "outputs": [],
   "source": [
    "# Cut hyperparameter space into difference pieces: 5 pieces (0-4)\n",
    "Hyp_Pieces = np.array_split(range(len(Hyperparameter_Mat)), 5)"
   ]
  },
  {
   "cell_type": "code",
   "execution_count": null,
   "id": "c69119d0",
   "metadata": {},
   "outputs": [],
   "source": [
    "# Batch 0\n",
    "Toy0 = Hyperparameter_Mat.iloc[Hyp_Pieces[0], :]\n",
    "Toy0.reset_index(drop=True, inplace=True)\n",
    "Result_0 = Self_CEBRA_Time_Training(Toy0, X)\n",
    "Result_0.to_csv('CEBRA_Time Training Results 0.csv')"
   ]
  },
  {
   "cell_type": "code",
   "execution_count": null,
   "id": "b55461df",
   "metadata": {},
   "outputs": [],
   "source": [
    "# Batch 1\n",
    "Toy0 = Hyperparameter_Mat.iloc[Hyp_Pieces[1], :]\n",
    "Toy0.reset_index(drop=True, inplace=True)\n",
    "Result_0 = Self_CEBRA_Time_Training(Toy0, X)\n",
    "Result_0.to_csv('CEBRA_Time Training Results 1.csv')"
   ]
  },
  {
   "cell_type": "code",
   "execution_count": null,
   "id": "188a14db",
   "metadata": {},
   "outputs": [],
   "source": [
    "# Batch 2\n",
    "Toy0 = Hyperparameter_Mat.iloc[Hyp_Pieces[2], :]\n",
    "Toy0.reset_index(drop=True, inplace=True)\n",
    "Result_0 = Self_CEBRA_Time_Training(Toy0, X)\n",
    "Result_0.to_csv('CEBRA_Time Training Results 2.csv')"
   ]
  },
  {
   "cell_type": "code",
   "execution_count": null,
   "id": "0e9d51ce",
   "metadata": {},
   "outputs": [],
   "source": [
    "# Batch 3\n",
    "Toy0 = Hyperparameter_Mat.iloc[Hyp_Pieces[3], :]\n",
    "Toy0.reset_index(drop=True, inplace=True)\n",
    "Result_0 = Self_CEBRA_Time_Training(Toy0, X)\n",
    "Result_0.to_csv('CEBRA_Time Training Results 3.csv')"
   ]
  },
  {
   "cell_type": "code",
   "execution_count": null,
   "id": "a38808d0",
   "metadata": {},
   "outputs": [],
   "source": [
    "# Batch 4\n",
    "Toy0 = Hyperparameter_Mat.iloc[Hyp_Pieces[4], :]\n",
    "Toy0.reset_index(drop=True, inplace=True)\n",
    "Result_0 = Self_CEBRA_Time_Training(Toy0, X)\n",
    "Result_0.to_csv('CEBRA_Time Training Results 4.csv')"
   ]
  }
 ],
 "metadata": {
  "kernelspec": {
   "display_name": "cebra",
   "language": "python",
   "name": "cebra"
  },
  "language_info": {
   "codemirror_mode": {
    "name": "ipython",
    "version": 3
   },
   "file_extension": ".py",
   "mimetype": "text/x-python",
   "name": "python",
   "nbconvert_exporter": "python",
   "pygments_lexer": "ipython3",
   "version": "3.8.0"
  }
 },
 "nbformat": 4,
 "nbformat_minor": 5
}
