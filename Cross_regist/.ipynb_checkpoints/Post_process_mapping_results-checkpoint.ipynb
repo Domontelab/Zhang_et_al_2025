{
 "cells": [
  {
   "cell_type": "code",
   "execution_count": 108,
   "id": "cc6ff4b6",
   "metadata": {},
   "outputs": [
    {
     "name": "stdout",
     "output_type": "stream",
     "text": [
      "The autoreload extension is already loaded. To reload it, use:\n",
      "  %reload_ext autoreload\n"
     ]
    }
   ],
   "source": [
    "%load_ext autoreload\n",
    "%autoreload 2\n",
    "import itertools as itt\n",
    "import os\n",
    "import sys\n",
    "import numpy as np\n",
    "import xarray as xr\n",
    "import pandas as pd\n",
    "import matplotlib.pyplot as plt\n",
    "import glob\n",
    "import multiprocessing as mp\n",
    "import argparse\n",
    "import re\n",
    "import shutil\n",
    "import mat73\n",
    "\n",
    "from minian.utilities import open_minian"
   ]
  },
  {
   "cell_type": "code",
   "execution_count": 67,
   "id": "f8961bcd",
   "metadata": {},
   "outputs": [],
   "source": [
    "minian_cross = '/scratch/09117/xz6783/Xu/PL_miniscope/PL/Analysis/Cross_regist/Satiation_vs_conflict/minian_cross'"
   ]
  },
  {
   "cell_type": "code",
   "execution_count": 86,
   "id": "e2918bb4",
   "metadata": {},
   "outputs": [],
   "source": [
    "cell_reg = '/scratch/09117/xz6783/minian/cross_regist/mat_files/'\n",
    "cell_reg_output = '/scratch/09117/xz6783/Xu/PL_miniscope/PL/Analysis/Cross_regist/Satiation_vs_conflict/cell_reg/'"
   ]
  },
  {
   "cell_type": "code",
   "execution_count": 6,
   "id": "6d7cf27c",
   "metadata": {},
   "outputs": [
    {
     "name": "stdout",
     "output_type": "stream",
     "text": [
      "14\n"
     ]
    },
    {
     "data": {
      "text/plain": [
       "['2Z4',\n",
       " '6S5',\n",
       " '9M6',\n",
       " '2I5',\n",
       " '7H6',\n",
       " '1S5',\n",
       " '7M6',\n",
       " '7B6',\n",
       " '8H6',\n",
       " '2N6',\n",
       " '1H6',\n",
       " '5B6',\n",
       " '6H6',\n",
       " '6M6']"
      ]
     },
     "execution_count": 6,
     "metadata": {},
     "output_type": "execute_result"
    }
   ],
   "source": [
    "conflict_path = \"/scratch/09117/xz6783/minian/Cat_Odor_Conflict/Conflict/\"\n",
    "satiation_path = \"/scratch/09117/xz6783/minian/Satiation/Session Combined\"\n",
    "id_path = \"/scratch/09117/xz6783/minian/Cat_Odor_Conflict/Conflict/\"\n",
    "files = os.listdir(id_path)\n",
    "\n",
    "animal_ids = [file for file in files if os.path.isdir(os.path.join(id_path, file)) and len(file) == 3 and file[0].isdigit()]\n",
    "\n",
    "print(len(animal_ids))\n",
    "animal_ids"
   ]
  },
  {
   "cell_type": "code",
   "execution_count": 62,
   "id": "4a400bb4",
   "metadata": {},
   "outputs": [],
   "source": [
    "for animal_id in animal_ids:\n",
    "    # Get minian_ds for conflict\n",
    "    dpath_conflict = os.path.join(conflict_path, animal_id)\n",
    "    pattern_conflict = os.path.join(dpath_conflict, \"**\", \"minian\")\n",
    "    minian_ds_path_conflict = glob.glob(pattern_conflict, recursive=True)[0]\n",
    "    if not os.path.exists(minian_ds_path_conflict):\n",
    "        print(f\"Minian dataset path {minian_ds_path_conflict} not found for animal ID {animal_id}\")\n",
    "\n",
    "    minian_ds_conflict = open_minian(minian_ds_path_conflict)\n",
    "    \n",
    "    # Assuming labels and unitid are as you defined\n",
    "    labels_conflict = minian_ds_conflict['C'].unit_labels.values\n",
    "    unitid_conflict = minian_ds_conflict['C'].unit_id.values\n",
    "\n",
    "    # Create the mapping directly from unit_id to label\n",
    "    unit_id_to_label_conflict = {u_id: label for label, u_id in zip(labels_conflict, unitid_conflict)}\n",
    "    \n",
    "    # Get minian_ds for satiation\n",
    "    dpath_satiation = os.path.join(satiation_path, animal_id)\n",
    "    pattern_satiation = os.path.join(dpath_satiation, \"**\", \"minian\")\n",
    "    minian_ds_path_satiation = glob.glob(pattern_satiation, recursive=True)[0]\n",
    "    if not os.path.exists(minian_ds_path_satiation):\n",
    "        print(f\"Minian dataset path {minian_ds_path_satiation} not found for animal ID {animal_id}\")\n",
    "\n",
    "    minian_ds_satiation = open_minian(minian_ds_path_satiation)\n",
    "    \n",
    "    # Assuming labels and unitid are as you defined\n",
    "    labels_satiation = minian_ds_satiation['C'].unit_labels.values\n",
    "    unitid_satiation = minian_ds_satiation['C'].unit_id.values\n",
    "\n",
    "    # Create the mapping directly from unit_id to label\n",
    "    unit_id_to_label_satiation = {u_id: label for label, u_id in zip(labels_satiation, unitid_satiation)}\n",
    " \n",
    "    # Get mapping pickle file\n",
    "    pattern = os.path.join(minian_cross, f\"{animal_id}*.pkl\")\n",
    "    matching_files = glob.glob(pattern)\n",
    "    \n",
    "    if not matching_files:\n",
    "        print(f\"No mapping pickle file found for animal ID {animal_id}\")\n",
    "        continue  # Skip to the next animal_id if no pickle file found\n",
    "\n",
    "    # Load the DataFrame from the first matching file\n",
    "    pickle_file_path = matching_files[0]\n",
    "    cross_map = pd.read_pickle(pickle_file_path).iloc[:, 1:3].dropna().astype('int64')\n",
    "    \n",
    "    # Update DataFrame with mapped labels\n",
    "    cross_map['session']['Conflict'] = cross_map['session']['Conflict'].map(unit_id_to_label_conflict)\n",
    "    cross_map['session']['Satiation'] = cross_map['session']['Satiation'].map(unit_id_to_label_satiation)\n",
    "\n",
    "    # Drop duplicate rows where 'Conflict' and 'Satiation' are the same\n",
    "    cross_map = cross_map.drop_duplicates(subset=[('session', 'Conflict'), ('session', 'Satiation')])\n",
    "\n",
    "    # Save the modified DataFrame back to the original file\n",
    "    cross_map.to_pickle(pickle_file_path)\n"
   ]
  },
  {
   "cell_type": "code",
   "execution_count": 96,
   "id": "14bcd64f",
   "metadata": {},
   "outputs": [],
   "source": [
    "f_pattern = r'^cellRegistered.*\\.mat$'\n",
    "\n",
    "\n",
    "\n",
    "for animal_id in os.listdir(cell_reg):\n",
    "    path_animal = os.path.join(cell_reg, animal_id)\n",
    "    glob_pattern = os.path.join(path_animal, \"**\", \"*.mat\")\n",
    "    all_mat_files = glob.glob(glob_pattern, recursive=True)\n",
    "    matching = [file for file in all_mat_files if re.match(f_pattern, os.path.basename(file))]\n",
    "    if matching:  # Check if there are any matching files\n",
    "        latest_file = sorted(matching)[-1]  # Get the latest file\n",
    "        new_filename = f\"{animal_id}_{os.path.basename(latest_file)}\"  # Prepend animal_id to the filename\n",
    "        new_file_path = os.path.join(cell_reg_output, new_filename)  # Define new file path\n",
    "        shutil.copy2(latest_file, new_file_path)  # Copy the file with the new name"
   ]
  },
  {
   "cell_type": "code",
   "execution_count": 196,
   "id": "429e1d4f",
   "metadata": {},
   "outputs": [],
   "source": [
    "for animal_id in animal_ids:\n",
    "    # Get minian_ds for conflict\n",
    "    dpath_conflict = os.path.join(conflict_path, animal_id)\n",
    "    pattern_conflict = os.path.join(dpath_conflict, \"**\", \"minian\")\n",
    "    minian_ds_path_conflict = glob.glob(pattern_conflict, recursive=True)[0]\n",
    "    if not os.path.exists(minian_ds_path_conflict):\n",
    "        print(f\"Minian dataset path {minian_ds_path_conflict} not found for animal ID {animal_id}\")\n",
    "\n",
    "    minian_ds_conflict = open_minian(minian_ds_path_conflict)\n",
    "\n",
    "    # Assuming labels and unitid are as you defined\n",
    "    labels_conflict = minian_ds_conflict['C'].unit_labels.values\n",
    "    unitid_conflict = minian_ds_conflict['C'].unit_id.values\n",
    "\n",
    "    # Create the mapping directly from unit_id to label\n",
    "    unit_id_to_label_conflict = {u_id: label for label, u_id in zip(labels_conflict, unitid_conflict)}\n",
    "    mat_to_unitid_conflict = {label: u_id for label, u_id in zip(np.arange(1, len(unitid_conflict)+1), unitid_conflict)}\n",
    "\n",
    "    # Get minian_ds for satiation\n",
    "    dpath_satiation = os.path.join(satiation_path, animal_id)\n",
    "    pattern_satiation = os.path.join(dpath_satiation, \"**\", \"minian\")\n",
    "    minian_ds_path_satiation = glob.glob(pattern_satiation, recursive=True)[0]\n",
    "    if not os.path.exists(minian_ds_path_satiation):\n",
    "        print(f\"Minian dataset path {minian_ds_path_satiation} not found for animal ID {animal_id}\")\n",
    "        continue\n",
    "    minian_ds_satiation = open_minian(minian_ds_path_satiation)\n",
    "\n",
    "    # Assuming labels and unitid are as you defined\n",
    "    labels_satiation = minian_ds_satiation['C'].unit_labels.values\n",
    "    unitid_satiation = minian_ds_satiation['C'].unit_id.values\n",
    "\n",
    "    # Create the mapping directly from unit_id to label\n",
    "    unit_id_to_label_satiation = {u_id: label for label, u_id in zip(labels_satiation, unitid_satiation)}\n",
    "    mat_to_unitid_satiation = {label: u_id for label, u_id in zip(np.arange(1, len(unitid_satiation)+1), unitid_satiation)}\n",
    "\n",
    "    # Get mapping pickle file\n",
    "    pattern = os.path.join(cell_reg_output, f\"{animal_id}*.mat\")\n",
    "    matching_files = glob.glob(pattern)\n",
    "\n",
    "    # Load the DataFrame from the first matching file\n",
    "    mat_file_path = matching_files[0]\n",
    "    cell_to_index_map = mat73.loadmat(os.path.join(cell_reg_output, mat_file_path))['cell_registered_struct']['cell_to_index_map'].astype('int64')\n",
    "\n",
    "    # Matlab indexes starting from 1. Correct this for Python.\n",
    "    # Then NaN out the unmatched cells.\n",
    "    match_map = pd.DataFrame(cell_to_index_map)\n",
    "    match_map.columns = ['Conflict_cell_id', 'Satiation_cell_id']\n",
    "\n",
    "    # # Update DataFrame with mapped labels\n",
    "    match_map['Conflict_cell_id'] = match_map['Conflict_cell_id'].map(mat_to_unitid_conflict)\n",
    "    match_map['Satiation_cell_id'] = match_map['Satiation_cell_id'].map(mat_to_unitid_satiation)\n",
    "    match_map['Conflict_cell_id'] = match_map['Conflict_cell_id'].map(unit_id_to_label_conflict)\n",
    "    match_map['Satiation_cell_id'] = match_map['Satiation_cell_id'].map(unit_id_to_label_satiation)\n",
    "\n",
    "    # # Drop duplicate rows where 'Conflict' and 'Satiation' are the same\n",
    "    match_map = match_map.dropna().drop_duplicates(subset=['Conflict_cell_id', 'Satiation_cell_id'])\n",
    "    pickle_file_path = matching_files[0].split('.')[0] + '.pkl'\n",
    "\n",
    "    # Save the modified DataFrame back to the original file\n",
    "    match_map.to_pickle(pickle_file_path)"
   ]
  },
  {
   "cell_type": "code",
   "execution_count": null,
   "id": "09e9d127",
   "metadata": {},
   "outputs": [],
   "source": []
  }
 ],
 "metadata": {
  "kernelspec": {
   "display_name": "minian",
   "language": "python",
   "name": "minian"
  },
  "language_info": {
   "codemirror_mode": {
    "name": "ipython",
    "version": 3
   },
   "file_extension": ".py",
   "mimetype": "text/x-python",
   "name": "python",
   "nbconvert_exporter": "python",
   "pygments_lexer": "ipython3",
   "version": "3.8.16"
  }
 },
 "nbformat": 4,
 "nbformat_minor": 5
}
